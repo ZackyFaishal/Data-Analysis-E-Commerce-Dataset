{
 "cells": [
  {
   "cell_type": "markdown",
   "metadata": {
    "id": "H9wADwK78DCz"
   },
   "source": [
    "# **Proyek Analisis Data: E-Commerce Public Dataset**\n",
    "- **Nama:** Zacky Faishal Abror\n",
    "- **Email:** a126ybm516@devacademy.id\n",
    "- **ID Dicoding:** zackyfaishal"
   ]
  },
  {
   "cell_type": "markdown",
   "metadata": {
    "id": "GmQeQ5YF8DC0"
   },
   "source": [
    "## Menentukan Pertanyaan Bisnis\n",
    "\n",
    "Pada proyek ini, kita akan menjawab dua pertanyaan utama berdasarkan dataset E-Commerce:\n",
    "\n",
    "**1️⃣ Pola Jumlah Pesanan per Bulan**\n",
    "   - Mengetahui pola jumlah pesanan per bulan membantu memahami tren penjualan. Ini penting untuk:\n",
    "   - **Mengidentifikasi musim atau tren musiman** dalam pembelian.\n",
    "   - **Menyesuaikan strategi pemasaran** berdasarkan bulan dengan permintaan tertinggi atau terendah.\n",
    "   - **Memprediksi volume pesanan di masa mendatang** berdasarkan pola historis.\n",
    "\n",
    "**2️⃣ Kategori Produk yang Paling Banyak Dibeli** \n",
    "   - Mengetahui kategori produk yang paling banyak dibeli berguna untuk:\n",
    "   - **Menentukan kategori yang paling diminati pelanggan** untuk meningkatkan stok atau promosi.\n",
    "   - **Membantu penjual dalam strategi pemasaran** dengan fokus pada kategori yang populer.\n",
    "   - **Mengoptimalkan manajemen inventaris** agar tidak ada kekurangan stok pada kategori tertentu.\n",
    "\n",
    "**3️⃣ Segmentasi Pelanggan dengan RFM Analysis**\n",
    "- **Segmentasi pelanggan berdasarkan RFM (Recency, Frequency, Monetary) membantu dalam:**\n",
    "- **Menentukan pelanggan loyal dan pelanggan baru** untuk strategi retensi.\n",
    "- **Mengalokasikan sumber daya pemasaran** dengan lebih efektif berdasarkan segmen pelanggan.\n",
    "- **Mengidentifikasi pelanggan yang berisiko churn** agar bisa dilakukan strategi pencegahan.\n",
    "\n",
    "**4️⃣ Distribusi Geografis Pelanggan berdasarkan Jumlah Pesanan**\n",
    "- **Menentukan wilayah dengan permintaan tinggi** untuk pengiriman dan stok barang.\n",
    "- **Meningkatkan strategi pemasaran berdasarkan lokasi pelanggan**.\n",
    "- **Mengoptimalkan biaya logistik dan distribusi** dengan memahami pola pesanan berdasarkan wilayah."
   ]
  },
  {
   "cell_type": "markdown",
   "metadata": {
    "id": "H-z4QGlO8DC1"
   },
   "source": [
    "## Import Semua Packages/Library yang Digunakan"
   ]
  },
  {
   "cell_type": "code",
   "execution_count": 4,
   "metadata": {
    "id": "FVYwaObI8DC1"
   },
   "outputs": [],
   "source": [
    "import pandas as pd\n",
    "import numpy as np\n",
    "import matplotlib.pyplot as plt\n",
    "import seaborn as sns\n",
    "import datetime as dt"
   ]
  },
  {
   "cell_type": "markdown",
   "metadata": {
    "id": "h_Sh51Xy8DC1"
   },
   "source": [
    "## Data Wrangling"
   ]
  },
  {
   "cell_type": "markdown",
   "metadata": {
    "id": "sXU2GBYu8DC1"
   },
   "source": [
    "### Gathering Data"
   ]
  },
  {
   "cell_type": "code",
   "execution_count": 5,
   "metadata": {
    "id": "zjCBk1BI8DC1"
   },
   "outputs": [],
   "source": [
    "# Load dataset sesuai nama file yang ada\n",
    "orders_df = pd.read_csv(\"data/orders_dataset.csv\")\n",
    "order_items_df = pd.read_csv(\"data/order_items_dataset.csv\")\n",
    "products_df = pd.read_csv(\"data/products_dataset.csv\")\n",
    "customers_df = pd.read_csv(\"data/customers_dataset.csv\")\n",
    "geolocation_df = pd.read_csv(\"data/geolocation_dataset.csv\")\n",
    "category_translation_df = pd.read_csv(\"data/product_category_name_translation.csv\")\n"
   ]
  },
  {
   "cell_type": "code",
   "execution_count": 6,
   "metadata": {},
   "outputs": [
    {
     "name": "stdout",
     "output_type": "stream",
     "text": [
      "Orders Dataset Sample:\n"
     ]
    },
    {
     "data": {
      "text/html": [
       "<div>\n",
       "<style scoped>\n",
       "    .dataframe tbody tr th:only-of-type {\n",
       "        vertical-align: middle;\n",
       "    }\n",
       "\n",
       "    .dataframe tbody tr th {\n",
       "        vertical-align: top;\n",
       "    }\n",
       "\n",
       "    .dataframe thead th {\n",
       "        text-align: right;\n",
       "    }\n",
       "</style>\n",
       "<table border=\"1\" class=\"dataframe\">\n",
       "  <thead>\n",
       "    <tr style=\"text-align: right;\">\n",
       "      <th></th>\n",
       "      <th>order_id</th>\n",
       "      <th>customer_id</th>\n",
       "      <th>order_status</th>\n",
       "      <th>order_purchase_timestamp</th>\n",
       "      <th>order_approved_at</th>\n",
       "      <th>order_delivered_carrier_date</th>\n",
       "      <th>order_delivered_customer_date</th>\n",
       "      <th>order_estimated_delivery_date</th>\n",
       "    </tr>\n",
       "  </thead>\n",
       "  <tbody>\n",
       "    <tr>\n",
       "      <th>0</th>\n",
       "      <td>e481f51cbdc54678b7cc49136f2d6af7</td>\n",
       "      <td>9ef432eb6251297304e76186b10a928d</td>\n",
       "      <td>delivered</td>\n",
       "      <td>2017-10-02 10:56:33</td>\n",
       "      <td>2017-10-02 11:07:15</td>\n",
       "      <td>2017-10-04 19:55:00</td>\n",
       "      <td>2017-10-10 21:25:13</td>\n",
       "      <td>2017-10-18 00:00:00</td>\n",
       "    </tr>\n",
       "    <tr>\n",
       "      <th>1</th>\n",
       "      <td>53cdb2fc8bc7dce0b6741e2150273451</td>\n",
       "      <td>b0830fb4747a6c6d20dea0b8c802d7ef</td>\n",
       "      <td>delivered</td>\n",
       "      <td>2018-07-24 20:41:37</td>\n",
       "      <td>2018-07-26 03:24:27</td>\n",
       "      <td>2018-07-26 14:31:00</td>\n",
       "      <td>2018-08-07 15:27:45</td>\n",
       "      <td>2018-08-13 00:00:00</td>\n",
       "    </tr>\n",
       "    <tr>\n",
       "      <th>2</th>\n",
       "      <td>47770eb9100c2d0c44946d9cf07ec65d</td>\n",
       "      <td>41ce2a54c0b03bf3443c3d931a367089</td>\n",
       "      <td>delivered</td>\n",
       "      <td>2018-08-08 08:38:49</td>\n",
       "      <td>2018-08-08 08:55:23</td>\n",
       "      <td>2018-08-08 13:50:00</td>\n",
       "      <td>2018-08-17 18:06:29</td>\n",
       "      <td>2018-09-04 00:00:00</td>\n",
       "    </tr>\n",
       "    <tr>\n",
       "      <th>3</th>\n",
       "      <td>949d5b44dbf5de918fe9c16f97b45f8a</td>\n",
       "      <td>f88197465ea7920adcdbec7375364d82</td>\n",
       "      <td>delivered</td>\n",
       "      <td>2017-11-18 19:28:06</td>\n",
       "      <td>2017-11-18 19:45:59</td>\n",
       "      <td>2017-11-22 13:39:59</td>\n",
       "      <td>2017-12-02 00:28:42</td>\n",
       "      <td>2017-12-15 00:00:00</td>\n",
       "    </tr>\n",
       "    <tr>\n",
       "      <th>4</th>\n",
       "      <td>ad21c59c0840e6cb83a9ceb5573f8159</td>\n",
       "      <td>8ab97904e6daea8866dbdbc4fb7aad2c</td>\n",
       "      <td>delivered</td>\n",
       "      <td>2018-02-13 21:18:39</td>\n",
       "      <td>2018-02-13 22:20:29</td>\n",
       "      <td>2018-02-14 19:46:34</td>\n",
       "      <td>2018-02-16 18:17:02</td>\n",
       "      <td>2018-02-26 00:00:00</td>\n",
       "    </tr>\n",
       "  </tbody>\n",
       "</table>\n",
       "</div>"
      ],
      "text/plain": [
       "                           order_id                       customer_id  \\\n",
       "0  e481f51cbdc54678b7cc49136f2d6af7  9ef432eb6251297304e76186b10a928d   \n",
       "1  53cdb2fc8bc7dce0b6741e2150273451  b0830fb4747a6c6d20dea0b8c802d7ef   \n",
       "2  47770eb9100c2d0c44946d9cf07ec65d  41ce2a54c0b03bf3443c3d931a367089   \n",
       "3  949d5b44dbf5de918fe9c16f97b45f8a  f88197465ea7920adcdbec7375364d82   \n",
       "4  ad21c59c0840e6cb83a9ceb5573f8159  8ab97904e6daea8866dbdbc4fb7aad2c   \n",
       "\n",
       "  order_status order_purchase_timestamp    order_approved_at  \\\n",
       "0    delivered      2017-10-02 10:56:33  2017-10-02 11:07:15   \n",
       "1    delivered      2018-07-24 20:41:37  2018-07-26 03:24:27   \n",
       "2    delivered      2018-08-08 08:38:49  2018-08-08 08:55:23   \n",
       "3    delivered      2017-11-18 19:28:06  2017-11-18 19:45:59   \n",
       "4    delivered      2018-02-13 21:18:39  2018-02-13 22:20:29   \n",
       "\n",
       "  order_delivered_carrier_date order_delivered_customer_date  \\\n",
       "0          2017-10-04 19:55:00           2017-10-10 21:25:13   \n",
       "1          2018-07-26 14:31:00           2018-08-07 15:27:45   \n",
       "2          2018-08-08 13:50:00           2018-08-17 18:06:29   \n",
       "3          2017-11-22 13:39:59           2017-12-02 00:28:42   \n",
       "4          2018-02-14 19:46:34           2018-02-16 18:17:02   \n",
       "\n",
       "  order_estimated_delivery_date  \n",
       "0           2017-10-18 00:00:00  \n",
       "1           2018-08-13 00:00:00  \n",
       "2           2018-09-04 00:00:00  \n",
       "3           2017-12-15 00:00:00  \n",
       "4           2018-02-26 00:00:00  "
      ]
     },
     "metadata": {},
     "output_type": "display_data"
    }
   ],
   "source": [
    "# Menampilkan sampel data\n",
    "print(\"Orders Dataset Sample:\")\n",
    "display(orders_df.head())"
   ]
  },
  {
   "cell_type": "code",
   "execution_count": 7,
   "metadata": {},
   "outputs": [
    {
     "name": "stdout",
     "output_type": "stream",
     "text": [
      "Order Items Dataset Sample:\n"
     ]
    },
    {
     "data": {
      "text/html": [
       "<div>\n",
       "<style scoped>\n",
       "    .dataframe tbody tr th:only-of-type {\n",
       "        vertical-align: middle;\n",
       "    }\n",
       "\n",
       "    .dataframe tbody tr th {\n",
       "        vertical-align: top;\n",
       "    }\n",
       "\n",
       "    .dataframe thead th {\n",
       "        text-align: right;\n",
       "    }\n",
       "</style>\n",
       "<table border=\"1\" class=\"dataframe\">\n",
       "  <thead>\n",
       "    <tr style=\"text-align: right;\">\n",
       "      <th></th>\n",
       "      <th>order_id</th>\n",
       "      <th>order_item_id</th>\n",
       "      <th>product_id</th>\n",
       "      <th>seller_id</th>\n",
       "      <th>shipping_limit_date</th>\n",
       "      <th>price</th>\n",
       "      <th>freight_value</th>\n",
       "    </tr>\n",
       "  </thead>\n",
       "  <tbody>\n",
       "    <tr>\n",
       "      <th>0</th>\n",
       "      <td>00010242fe8c5a6d1ba2dd792cb16214</td>\n",
       "      <td>1</td>\n",
       "      <td>4244733e06e7ecb4970a6e2683c13e61</td>\n",
       "      <td>48436dade18ac8b2bce089ec2a041202</td>\n",
       "      <td>2017-09-19 09:45:35</td>\n",
       "      <td>58.90</td>\n",
       "      <td>13.29</td>\n",
       "    </tr>\n",
       "    <tr>\n",
       "      <th>1</th>\n",
       "      <td>00018f77f2f0320c557190d7a144bdd3</td>\n",
       "      <td>1</td>\n",
       "      <td>e5f2d52b802189ee658865ca93d83a8f</td>\n",
       "      <td>dd7ddc04e1b6c2c614352b383efe2d36</td>\n",
       "      <td>2017-05-03 11:05:13</td>\n",
       "      <td>239.90</td>\n",
       "      <td>19.93</td>\n",
       "    </tr>\n",
       "    <tr>\n",
       "      <th>2</th>\n",
       "      <td>000229ec398224ef6ca0657da4fc703e</td>\n",
       "      <td>1</td>\n",
       "      <td>c777355d18b72b67abbeef9df44fd0fd</td>\n",
       "      <td>5b51032eddd242adc84c38acab88f23d</td>\n",
       "      <td>2018-01-18 14:48:30</td>\n",
       "      <td>199.00</td>\n",
       "      <td>17.87</td>\n",
       "    </tr>\n",
       "    <tr>\n",
       "      <th>3</th>\n",
       "      <td>00024acbcdf0a6daa1e931b038114c75</td>\n",
       "      <td>1</td>\n",
       "      <td>7634da152a4610f1595efa32f14722fc</td>\n",
       "      <td>9d7a1d34a5052409006425275ba1c2b4</td>\n",
       "      <td>2018-08-15 10:10:18</td>\n",
       "      <td>12.99</td>\n",
       "      <td>12.79</td>\n",
       "    </tr>\n",
       "    <tr>\n",
       "      <th>4</th>\n",
       "      <td>00042b26cf59d7ce69dfabb4e55b4fd9</td>\n",
       "      <td>1</td>\n",
       "      <td>ac6c3623068f30de03045865e4e10089</td>\n",
       "      <td>df560393f3a51e74553ab94004ba5c87</td>\n",
       "      <td>2017-02-13 13:57:51</td>\n",
       "      <td>199.90</td>\n",
       "      <td>18.14</td>\n",
       "    </tr>\n",
       "  </tbody>\n",
       "</table>\n",
       "</div>"
      ],
      "text/plain": [
       "                           order_id  order_item_id  \\\n",
       "0  00010242fe8c5a6d1ba2dd792cb16214              1   \n",
       "1  00018f77f2f0320c557190d7a144bdd3              1   \n",
       "2  000229ec398224ef6ca0657da4fc703e              1   \n",
       "3  00024acbcdf0a6daa1e931b038114c75              1   \n",
       "4  00042b26cf59d7ce69dfabb4e55b4fd9              1   \n",
       "\n",
       "                         product_id                         seller_id  \\\n",
       "0  4244733e06e7ecb4970a6e2683c13e61  48436dade18ac8b2bce089ec2a041202   \n",
       "1  e5f2d52b802189ee658865ca93d83a8f  dd7ddc04e1b6c2c614352b383efe2d36   \n",
       "2  c777355d18b72b67abbeef9df44fd0fd  5b51032eddd242adc84c38acab88f23d   \n",
       "3  7634da152a4610f1595efa32f14722fc  9d7a1d34a5052409006425275ba1c2b4   \n",
       "4  ac6c3623068f30de03045865e4e10089  df560393f3a51e74553ab94004ba5c87   \n",
       "\n",
       "   shipping_limit_date   price  freight_value  \n",
       "0  2017-09-19 09:45:35   58.90          13.29  \n",
       "1  2017-05-03 11:05:13  239.90          19.93  \n",
       "2  2018-01-18 14:48:30  199.00          17.87  \n",
       "3  2018-08-15 10:10:18   12.99          12.79  \n",
       "4  2017-02-13 13:57:51  199.90          18.14  "
      ]
     },
     "metadata": {},
     "output_type": "display_data"
    }
   ],
   "source": [
    "print(\"Order Items Dataset Sample:\")\n",
    "display(order_items_df.head())"
   ]
  },
  {
   "cell_type": "code",
   "execution_count": 8,
   "metadata": {},
   "outputs": [
    {
     "name": "stdout",
     "output_type": "stream",
     "text": [
      "Products Dataset Sample:\n"
     ]
    },
    {
     "data": {
      "text/html": [
       "<div>\n",
       "<style scoped>\n",
       "    .dataframe tbody tr th:only-of-type {\n",
       "        vertical-align: middle;\n",
       "    }\n",
       "\n",
       "    .dataframe tbody tr th {\n",
       "        vertical-align: top;\n",
       "    }\n",
       "\n",
       "    .dataframe thead th {\n",
       "        text-align: right;\n",
       "    }\n",
       "</style>\n",
       "<table border=\"1\" class=\"dataframe\">\n",
       "  <thead>\n",
       "    <tr style=\"text-align: right;\">\n",
       "      <th></th>\n",
       "      <th>product_id</th>\n",
       "      <th>product_category_name</th>\n",
       "      <th>product_name_lenght</th>\n",
       "      <th>product_description_lenght</th>\n",
       "      <th>product_photos_qty</th>\n",
       "      <th>product_weight_g</th>\n",
       "      <th>product_length_cm</th>\n",
       "      <th>product_height_cm</th>\n",
       "      <th>product_width_cm</th>\n",
       "    </tr>\n",
       "  </thead>\n",
       "  <tbody>\n",
       "    <tr>\n",
       "      <th>0</th>\n",
       "      <td>1e9e8ef04dbcff4541ed26657ea517e5</td>\n",
       "      <td>perfumaria</td>\n",
       "      <td>40.0</td>\n",
       "      <td>287.0</td>\n",
       "      <td>1.0</td>\n",
       "      <td>225.0</td>\n",
       "      <td>16.0</td>\n",
       "      <td>10.0</td>\n",
       "      <td>14.0</td>\n",
       "    </tr>\n",
       "    <tr>\n",
       "      <th>1</th>\n",
       "      <td>3aa071139cb16b67ca9e5dea641aaa2f</td>\n",
       "      <td>artes</td>\n",
       "      <td>44.0</td>\n",
       "      <td>276.0</td>\n",
       "      <td>1.0</td>\n",
       "      <td>1000.0</td>\n",
       "      <td>30.0</td>\n",
       "      <td>18.0</td>\n",
       "      <td>20.0</td>\n",
       "    </tr>\n",
       "    <tr>\n",
       "      <th>2</th>\n",
       "      <td>96bd76ec8810374ed1b65e291975717f</td>\n",
       "      <td>esporte_lazer</td>\n",
       "      <td>46.0</td>\n",
       "      <td>250.0</td>\n",
       "      <td>1.0</td>\n",
       "      <td>154.0</td>\n",
       "      <td>18.0</td>\n",
       "      <td>9.0</td>\n",
       "      <td>15.0</td>\n",
       "    </tr>\n",
       "    <tr>\n",
       "      <th>3</th>\n",
       "      <td>cef67bcfe19066a932b7673e239eb23d</td>\n",
       "      <td>bebes</td>\n",
       "      <td>27.0</td>\n",
       "      <td>261.0</td>\n",
       "      <td>1.0</td>\n",
       "      <td>371.0</td>\n",
       "      <td>26.0</td>\n",
       "      <td>4.0</td>\n",
       "      <td>26.0</td>\n",
       "    </tr>\n",
       "    <tr>\n",
       "      <th>4</th>\n",
       "      <td>9dc1a7de274444849c219cff195d0b71</td>\n",
       "      <td>utilidades_domesticas</td>\n",
       "      <td>37.0</td>\n",
       "      <td>402.0</td>\n",
       "      <td>4.0</td>\n",
       "      <td>625.0</td>\n",
       "      <td>20.0</td>\n",
       "      <td>17.0</td>\n",
       "      <td>13.0</td>\n",
       "    </tr>\n",
       "  </tbody>\n",
       "</table>\n",
       "</div>"
      ],
      "text/plain": [
       "                         product_id  product_category_name  \\\n",
       "0  1e9e8ef04dbcff4541ed26657ea517e5             perfumaria   \n",
       "1  3aa071139cb16b67ca9e5dea641aaa2f                  artes   \n",
       "2  96bd76ec8810374ed1b65e291975717f          esporte_lazer   \n",
       "3  cef67bcfe19066a932b7673e239eb23d                  bebes   \n",
       "4  9dc1a7de274444849c219cff195d0b71  utilidades_domesticas   \n",
       "\n",
       "   product_name_lenght  product_description_lenght  product_photos_qty  \\\n",
       "0                 40.0                       287.0                 1.0   \n",
       "1                 44.0                       276.0                 1.0   \n",
       "2                 46.0                       250.0                 1.0   \n",
       "3                 27.0                       261.0                 1.0   \n",
       "4                 37.0                       402.0                 4.0   \n",
       "\n",
       "   product_weight_g  product_length_cm  product_height_cm  product_width_cm  \n",
       "0             225.0               16.0               10.0              14.0  \n",
       "1            1000.0               30.0               18.0              20.0  \n",
       "2             154.0               18.0                9.0              15.0  \n",
       "3             371.0               26.0                4.0              26.0  \n",
       "4             625.0               20.0               17.0              13.0  "
      ]
     },
     "metadata": {},
     "output_type": "display_data"
    }
   ],
   "source": [
    "print(\"Products Dataset Sample:\")\n",
    "display(products_df.head())"
   ]
  },
  {
   "cell_type": "code",
   "execution_count": 9,
   "metadata": {},
   "outputs": [
    {
     "name": "stdout",
     "output_type": "stream",
     "text": [
      "Customers Dataset Sample:\n"
     ]
    },
    {
     "data": {
      "text/html": [
       "<div>\n",
       "<style scoped>\n",
       "    .dataframe tbody tr th:only-of-type {\n",
       "        vertical-align: middle;\n",
       "    }\n",
       "\n",
       "    .dataframe tbody tr th {\n",
       "        vertical-align: top;\n",
       "    }\n",
       "\n",
       "    .dataframe thead th {\n",
       "        text-align: right;\n",
       "    }\n",
       "</style>\n",
       "<table border=\"1\" class=\"dataframe\">\n",
       "  <thead>\n",
       "    <tr style=\"text-align: right;\">\n",
       "      <th></th>\n",
       "      <th>customer_id</th>\n",
       "      <th>customer_unique_id</th>\n",
       "      <th>customer_zip_code_prefix</th>\n",
       "      <th>customer_city</th>\n",
       "      <th>customer_state</th>\n",
       "    </tr>\n",
       "  </thead>\n",
       "  <tbody>\n",
       "    <tr>\n",
       "      <th>0</th>\n",
       "      <td>06b8999e2fba1a1fbc88172c00ba8bc7</td>\n",
       "      <td>861eff4711a542e4b93843c6dd7febb0</td>\n",
       "      <td>14409</td>\n",
       "      <td>franca</td>\n",
       "      <td>SP</td>\n",
       "    </tr>\n",
       "    <tr>\n",
       "      <th>1</th>\n",
       "      <td>18955e83d337fd6b2def6b18a428ac77</td>\n",
       "      <td>290c77bc529b7ac935b93aa66c333dc3</td>\n",
       "      <td>9790</td>\n",
       "      <td>sao bernardo do campo</td>\n",
       "      <td>SP</td>\n",
       "    </tr>\n",
       "    <tr>\n",
       "      <th>2</th>\n",
       "      <td>4e7b3e00288586ebd08712fdd0374a03</td>\n",
       "      <td>060e732b5b29e8181a18229c7b0b2b5e</td>\n",
       "      <td>1151</td>\n",
       "      <td>sao paulo</td>\n",
       "      <td>SP</td>\n",
       "    </tr>\n",
       "    <tr>\n",
       "      <th>3</th>\n",
       "      <td>b2b6027bc5c5109e529d4dc6358b12c3</td>\n",
       "      <td>259dac757896d24d7702b9acbbff3f3c</td>\n",
       "      <td>8775</td>\n",
       "      <td>mogi das cruzes</td>\n",
       "      <td>SP</td>\n",
       "    </tr>\n",
       "    <tr>\n",
       "      <th>4</th>\n",
       "      <td>4f2d8ab171c80ec8364f7c12e35b23ad</td>\n",
       "      <td>345ecd01c38d18a9036ed96c73b8d066</td>\n",
       "      <td>13056</td>\n",
       "      <td>campinas</td>\n",
       "      <td>SP</td>\n",
       "    </tr>\n",
       "  </tbody>\n",
       "</table>\n",
       "</div>"
      ],
      "text/plain": [
       "                        customer_id                customer_unique_id  \\\n",
       "0  06b8999e2fba1a1fbc88172c00ba8bc7  861eff4711a542e4b93843c6dd7febb0   \n",
       "1  18955e83d337fd6b2def6b18a428ac77  290c77bc529b7ac935b93aa66c333dc3   \n",
       "2  4e7b3e00288586ebd08712fdd0374a03  060e732b5b29e8181a18229c7b0b2b5e   \n",
       "3  b2b6027bc5c5109e529d4dc6358b12c3  259dac757896d24d7702b9acbbff3f3c   \n",
       "4  4f2d8ab171c80ec8364f7c12e35b23ad  345ecd01c38d18a9036ed96c73b8d066   \n",
       "\n",
       "   customer_zip_code_prefix          customer_city customer_state  \n",
       "0                     14409                 franca             SP  \n",
       "1                      9790  sao bernardo do campo             SP  \n",
       "2                      1151              sao paulo             SP  \n",
       "3                      8775        mogi das cruzes             SP  \n",
       "4                     13056               campinas             SP  "
      ]
     },
     "metadata": {},
     "output_type": "display_data"
    }
   ],
   "source": [
    "print(\"Customers Dataset Sample:\")\n",
    "display(customers_df.head())"
   ]
  },
  {
   "cell_type": "code",
   "execution_count": 10,
   "metadata": {},
   "outputs": [
    {
     "name": "stdout",
     "output_type": "stream",
     "text": [
      "Geolocation Dataset Sample:\n"
     ]
    },
    {
     "data": {
      "text/html": [
       "<div>\n",
       "<style scoped>\n",
       "    .dataframe tbody tr th:only-of-type {\n",
       "        vertical-align: middle;\n",
       "    }\n",
       "\n",
       "    .dataframe tbody tr th {\n",
       "        vertical-align: top;\n",
       "    }\n",
       "\n",
       "    .dataframe thead th {\n",
       "        text-align: right;\n",
       "    }\n",
       "</style>\n",
       "<table border=\"1\" class=\"dataframe\">\n",
       "  <thead>\n",
       "    <tr style=\"text-align: right;\">\n",
       "      <th></th>\n",
       "      <th>geolocation_zip_code_prefix</th>\n",
       "      <th>geolocation_lat</th>\n",
       "      <th>geolocation_lng</th>\n",
       "      <th>geolocation_city</th>\n",
       "      <th>geolocation_state</th>\n",
       "    </tr>\n",
       "  </thead>\n",
       "  <tbody>\n",
       "    <tr>\n",
       "      <th>0</th>\n",
       "      <td>1037</td>\n",
       "      <td>-23.545621</td>\n",
       "      <td>-46.639292</td>\n",
       "      <td>sao paulo</td>\n",
       "      <td>SP</td>\n",
       "    </tr>\n",
       "    <tr>\n",
       "      <th>1</th>\n",
       "      <td>1046</td>\n",
       "      <td>-23.546081</td>\n",
       "      <td>-46.644820</td>\n",
       "      <td>sao paulo</td>\n",
       "      <td>SP</td>\n",
       "    </tr>\n",
       "    <tr>\n",
       "      <th>2</th>\n",
       "      <td>1046</td>\n",
       "      <td>-23.546129</td>\n",
       "      <td>-46.642951</td>\n",
       "      <td>sao paulo</td>\n",
       "      <td>SP</td>\n",
       "    </tr>\n",
       "    <tr>\n",
       "      <th>3</th>\n",
       "      <td>1041</td>\n",
       "      <td>-23.544392</td>\n",
       "      <td>-46.639499</td>\n",
       "      <td>sao paulo</td>\n",
       "      <td>SP</td>\n",
       "    </tr>\n",
       "    <tr>\n",
       "      <th>4</th>\n",
       "      <td>1035</td>\n",
       "      <td>-23.541578</td>\n",
       "      <td>-46.641607</td>\n",
       "      <td>sao paulo</td>\n",
       "      <td>SP</td>\n",
       "    </tr>\n",
       "  </tbody>\n",
       "</table>\n",
       "</div>"
      ],
      "text/plain": [
       "   geolocation_zip_code_prefix  geolocation_lat  geolocation_lng  \\\n",
       "0                         1037       -23.545621       -46.639292   \n",
       "1                         1046       -23.546081       -46.644820   \n",
       "2                         1046       -23.546129       -46.642951   \n",
       "3                         1041       -23.544392       -46.639499   \n",
       "4                         1035       -23.541578       -46.641607   \n",
       "\n",
       "  geolocation_city geolocation_state  \n",
       "0        sao paulo                SP  \n",
       "1        sao paulo                SP  \n",
       "2        sao paulo                SP  \n",
       "3        sao paulo                SP  \n",
       "4        sao paulo                SP  "
      ]
     },
     "metadata": {},
     "output_type": "display_data"
    }
   ],
   "source": [
    "print(\"Geolocation Dataset Sample:\")\n",
    "display(geolocation_df.head())"
   ]
  },
  {
   "cell_type": "code",
   "execution_count": 11,
   "metadata": {},
   "outputs": [
    {
     "name": "stdout",
     "output_type": "stream",
     "text": [
      "\n",
      "Product Category Translation Dataset:\n",
      "    product_category_name product_category_name_english\n",
      "0            beleza_saude                 health_beauty\n",
      "1  informatica_acessorios         computers_accessories\n",
      "2              automotivo                          auto\n",
      "3         cama_mesa_banho                bed_bath_table\n",
      "4        moveis_decoracao               furniture_decor\n"
     ]
    }
   ],
   "source": [
    "print(\"\\nProduct Category Translation Dataset:\")\n",
    "print(category_translation_df.head())"
   ]
  },
  {
   "cell_type": "markdown",
   "metadata": {
    "id": "MMi6xGaDkbCi"
   },
   "source": [
    "**Insight:**\n",
    "- Ada 6 dataset utama yang akan digunakan dalam analisis.\n",
    "- Data pelanggan dan geolokasi akan berguna untuk analisis segmentasi geografis."
   ]
  },
  {
   "cell_type": "markdown",
   "metadata": {
    "id": "FHSiqaZp8DC1"
   },
   "source": [
    "### Assessing Data"
   ]
  },
  {
   "cell_type": "code",
   "execution_count": 12,
   "metadata": {
    "id": "ax-3tEjc9Cj1"
   },
   "outputs": [
    {
     "name": "stdout",
     "output_type": "stream",
     "text": [
      "\n",
      "Missing Values per Dataset:\n",
      "Orders:\n",
      " order_id                            0\n",
      "customer_id                         0\n",
      "order_status                        0\n",
      "order_purchase_timestamp            0\n",
      "order_approved_at                 160\n",
      "order_delivered_carrier_date     1783\n",
      "order_delivered_customer_date    2965\n",
      "order_estimated_delivery_date       0\n",
      "dtype: int64 \n",
      "\n",
      "Order Items:\n",
      " order_id               0\n",
      "order_item_id          0\n",
      "product_id             0\n",
      "seller_id              0\n",
      "shipping_limit_date    0\n",
      "price                  0\n",
      "freight_value          0\n",
      "dtype: int64 \n",
      "\n",
      "Products:\n",
      " product_id                      0\n",
      "product_category_name         610\n",
      "product_name_lenght           610\n",
      "product_description_lenght    610\n",
      "product_photos_qty            610\n",
      "product_weight_g                2\n",
      "product_length_cm               2\n",
      "product_height_cm               2\n",
      "product_width_cm                2\n",
      "dtype: int64 \n",
      "\n",
      "Customers:\n",
      " customer_id                 0\n",
      "customer_unique_id          0\n",
      "customer_zip_code_prefix    0\n",
      "customer_city               0\n",
      "customer_state              0\n",
      "dtype: int64 \n",
      "\n",
      "Geolocation:\n",
      " geolocation_zip_code_prefix    0\n",
      "geolocation_lat                0\n",
      "geolocation_lng                0\n",
      "geolocation_city               0\n",
      "geolocation_state              0\n",
      "dtype: int64 \n",
      "\n",
      "Category Translation:\n",
      " product_category_name            0\n",
      "product_category_name_english    0\n",
      "dtype: int64 \n",
      "\n"
     ]
    }
   ],
   "source": [
    "# Mengecek missing values pada setiap dataset\n",
    "print(\"\\nMissing Values per Dataset:\")\n",
    "print(\"Orders:\\n\", orders_df.isnull().sum(), \"\\n\")\n",
    "print(\"Order Items:\\n\", order_items_df.isnull().sum(), \"\\n\")\n",
    "print(\"Products:\\n\", products_df.isnull().sum(), \"\\n\")\n",
    "print(\"Customers:\\n\", customers_df.isnull().sum(), \"\\n\")\n",
    "print(\"Geolocation:\\n\", geolocation_df.isnull().sum(), \"\\n\")\n",
    "print(\"Category Translation:\\n\", category_translation_df.isnull().sum(), \"\\n\")"
   ]
  },
  {
   "cell_type": "code",
   "execution_count": 13,
   "metadata": {},
   "outputs": [
    {
     "name": "stdout",
     "output_type": "stream",
     "text": [
      "\n",
      "Duplicated Rows:\n",
      "Orders: 0\n",
      "Order Items: 0\n",
      "Products: 0\n",
      "Customers: 0\n",
      "Geolocation: 261831\n"
     ]
    }
   ],
   "source": [
    "# Cek duplikasi dalam dataset\n",
    "print(\"\\nDuplicated Rows:\")\n",
    "print(\"Orders:\", orders_df.duplicated().sum())\n",
    "print(\"Order Items:\", order_items_df.duplicated().sum())\n",
    "print(\"Products:\", products_df.duplicated().sum())\n",
    "print(\"Customers:\", customers_df.duplicated().sum())\n",
    "print(\"Geolocation:\", geolocation_df.duplicated().sum())"
   ]
  },
  {
   "cell_type": "code",
   "execution_count": 14,
   "metadata": {},
   "outputs": [
    {
     "name": "stdout",
     "output_type": "stream",
     "text": [
      "\n",
      "Data Types:\n",
      "order_id                         object\n",
      "customer_id                      object\n",
      "order_status                     object\n",
      "order_purchase_timestamp         object\n",
      "order_approved_at                object\n",
      "order_delivered_carrier_date     object\n",
      "order_delivered_customer_date    object\n",
      "order_estimated_delivery_date    object\n",
      "dtype: object\n"
     ]
    }
   ],
   "source": [
    "# Mengecek tipe data\n",
    "print(\"\\nData Types:\")\n",
    "print(orders_df.dtypes)"
   ]
  },
  {
   "cell_type": "markdown",
   "metadata": {
    "id": "7dtxhAPrkhPL"
   },
   "source": [
    "#### **Insight dari Exploratory Data Analysis (EDA)**\n",
    "\n",
    "##### **1. Missing Values Analysis**\n",
    "Berdasarkan analisis missing values, ditemukan beberapa hal penting:\n",
    "- Dataset **Orders** memiliki missing values pada kolom:\n",
    "  - `order_approved_at`: 160 nilai hilang.\n",
    "  - `order_delivered_carrier_date`: 1783 nilai hilang.\n",
    "  - `order_delivered_customer_date`: 2965 nilai hilang.\n",
    "\n",
    "- Dataset **Products** memiliki missing values pada kolom:\n",
    "  - `product_category_name`, `product_name_length`, `product_description_length`, `product_photos_qty` dengan 610 nilai hilang.\n",
    "  - `product_weight_g`, `product_length_cm`, `product_height_cm`, `product_width_cm` dengan 2 nilai hilang.\n",
    "\n",
    "- Tidak ada missing values pada dataset **Order Items**, **Customers**, dan **Geolocation**.\n",
    "\n",
    "###### **Kesimpulan Missing Values**\n",
    "- Nilai yang hilang di **Orders** kemungkinan terjadi karena order yang belum diproses atau gagal dikirim.\n",
    "- Nilai yang hilang di **Products** kemungkinan menunjukkan data yang tidak lengkap atau produk yang belum memiliki informasi lengkap.\n",
    "\n",
    "##### **2. Duplicate Data Analysis**\n",
    "Hasil analisis menunjukkan bahwa:\n",
    "- Tidak ditemukan duplikasi data pada **Orders, Order Items, Products, dan Customers**.\n",
    "- Namun, dataset **Geolocation** memiliki **261.831 baris duplikat**.\n",
    "\n",
    "###### **Kesimpulan Duplicate Data**\n",
    "- Data **Geolocation** perlu ditinjau lebih lanjut, apakah memang ada data yang redundan atau hanya representasi dari lokasi yang sama.\n",
    "\n",
    "##### **3. Data Types Analysis**\n",
    "- Mayoritas kolom dalam dataset **Orders** bertipe `object`, termasuk `order_purchase_timestamp` dan `order_delivered_customer_date`, yang seharusnya bertipe `datetime`.\n",
    "- Perlu dilakukan konversi tipe data pada kolom tanggal agar dapat digunakan dalam analisis lebih lanjut.\n",
    "\n",
    "###### **Kesimpulan Data Types**\n",
    "- Perlu konversi data waktu (`timestamp`) ke format **datetime** agar bisa digunakan dalam analisis waktu seperti menghitung durasi pengiriman.\n",
    "- Pengecekan lebih lanjut apakah tipe data lainnya sudah sesuai dengan kebutuhan analisis."
   ]
  },
  {
   "cell_type": "markdown",
   "metadata": {
    "id": "EhN5R4hr8DC1"
   },
   "source": [
    "### Cleaning Data"
   ]
  },
  {
   "cell_type": "code",
   "execution_count": 15,
   "metadata": {},
   "outputs": [],
   "source": [
    "# 1️⃣ Hapus missing values pada kolom order_approved_at (hanya analisis pesanan yang disetujui)\n",
    "orders_df = orders_df.dropna(subset=['order_approved_at'])"
   ]
  },
  {
   "cell_type": "code",
   "execution_count": 16,
   "metadata": {},
   "outputs": [],
   "source": [
    "# 2️⃣ Hapus order yang tidak memiliki tanggal pengiriman (opsional, hanya jika ingin fokus pada order yang berhasil dikirim)\n",
    "orders_df = orders_df.dropna(subset=['order_delivered_customer_date'])"
   ]
  },
  {
   "cell_type": "code",
   "execution_count": 17,
   "metadata": {},
   "outputs": [],
   "source": [
    "# 3 Hapus order yang tidak memiliki tanggal pengiriman (opsional, hanya jika ingin fokus pada order yang berhasil dikirim)\n",
    "orders_df = orders_df.dropna(subset=['order_delivered_carrier_date'])"
   ]
  },
  {
   "cell_type": "code",
   "execution_count": 18,
   "metadata": {},
   "outputs": [
    {
     "data": {
      "text/plain": [
       "order_id                         0\n",
       "customer_id                      0\n",
       "order_status                     0\n",
       "order_purchase_timestamp         0\n",
       "order_approved_at                0\n",
       "order_delivered_carrier_date     0\n",
       "order_delivered_customer_date    0\n",
       "order_estimated_delivery_date    0\n",
       "dtype: int64"
      ]
     },
     "execution_count": 18,
     "metadata": {},
     "output_type": "execute_result"
    }
   ],
   "source": [
    "orders_df.isnull().sum()"
   ]
  },
  {
   "cell_type": "code",
   "execution_count": 19,
   "metadata": {},
   "outputs": [],
   "source": [
    "# 3️⃣ Isi missing values pada produk dengan \"Unknown\" untuk kategori dan median untuk angka\n",
    "products_df = products_df.assign(product_category_name=products_df['product_category_name'].fillna('Unknown'))"
   ]
  },
  {
   "cell_type": "code",
   "execution_count": 20,
   "metadata": {},
   "outputs": [],
   "source": [
    "products_df['product_name_lenght'] = products_df['product_name_lenght'].fillna(products_df['product_name_lenght'].median())"
   ]
  },
  {
   "cell_type": "code",
   "execution_count": 21,
   "metadata": {},
   "outputs": [],
   "source": [
    "products_df['product_description_lenght'] = products_df['product_description_lenght'].fillna(products_df['product_description_lenght'].median())"
   ]
  },
  {
   "cell_type": "code",
   "execution_count": 22,
   "metadata": {},
   "outputs": [],
   "source": [
    "products_df['product_photos_qty'] = products_df['product_photos_qty'].fillna(products_df['product_photos_qty'].median())"
   ]
  },
  {
   "cell_type": "code",
   "execution_count": 23,
   "metadata": {},
   "outputs": [],
   "source": [
    "# Isi missing values pada ukuran produk dengan median\n",
    "for col in ['product_weight_g', 'product_length_cm', 'product_height_cm', 'product_width_cm']:\n",
    "    products_df[col] = products_df[col].fillna(products_df[col].median())"
   ]
  },
  {
   "cell_type": "code",
   "execution_count": 24,
   "metadata": {},
   "outputs": [
    {
     "data": {
      "text/plain": [
       "product_id                    0\n",
       "product_category_name         0\n",
       "product_name_lenght           0\n",
       "product_description_lenght    0\n",
       "product_photos_qty            0\n",
       "product_weight_g              0\n",
       "product_length_cm             0\n",
       "product_height_cm             0\n",
       "product_width_cm              0\n",
       "dtype: int64"
      ]
     },
     "execution_count": 24,
     "metadata": {},
     "output_type": "execute_result"
    }
   ],
   "source": [
    "products_df.isnull().sum()"
   ]
  },
  {
   "cell_type": "code",
   "execution_count": 25,
   "metadata": {},
   "outputs": [],
   "source": [
    "# Konversi kolom tanggal ke format datetime\n",
    "date_columns = [\"order_purchase_timestamp\", \"order_approved_at\", \n",
    "                \"order_delivered_carrier_date\", \"order_delivered_customer_date\", \n",
    "                \"order_estimated_delivery_date\"]\n",
    "\n",
    "orders_df[date_columns] = orders_df[date_columns].apply(pd.to_datetime)"
   ]
  },
  {
   "cell_type": "code",
   "execution_count": 26,
   "metadata": {},
   "outputs": [],
   "source": [
    "geolocation_df = geolocation_df.drop_duplicates()"
   ]
  },
  {
   "cell_type": "code",
   "execution_count": 27,
   "metadata": {},
   "outputs": [],
   "source": [
    "# Simpan hasil data yang sudah dibersihkan\n",
    "orders_df.to_csv(\"data/cleaned_orders.csv\", index=False)\n",
    "products_df.to_csv(\"data/cleaned_products.csv\", index=False)"
   ]
  },
  {
   "cell_type": "code",
   "execution_count": 28,
   "metadata": {},
   "outputs": [
    {
     "name": "stdout",
     "output_type": "stream",
     "text": [
      "🔍 Missing Values setelah Cleansing:\n",
      "\n",
      "Orders:\n",
      " order_id                         0\n",
      "customer_id                      0\n",
      "order_status                     0\n",
      "order_purchase_timestamp         0\n",
      "order_approved_at                0\n",
      "order_delivered_carrier_date     0\n",
      "order_delivered_customer_date    0\n",
      "order_estimated_delivery_date    0\n",
      "dtype: int64\n",
      "\n",
      "Order Items:\n",
      " order_id               0\n",
      "order_item_id          0\n",
      "product_id             0\n",
      "seller_id              0\n",
      "shipping_limit_date    0\n",
      "price                  0\n",
      "freight_value          0\n",
      "dtype: int64\n",
      "\n",
      "Products:\n",
      " product_id                    0\n",
      "product_category_name         0\n",
      "product_name_lenght           0\n",
      "product_description_lenght    0\n",
      "product_photos_qty            0\n",
      "product_weight_g              0\n",
      "product_length_cm             0\n",
      "product_height_cm             0\n",
      "product_width_cm              0\n",
      "dtype: int64\n",
      "\n",
      "Customers:\n",
      " customer_id                 0\n",
      "customer_unique_id          0\n",
      "customer_zip_code_prefix    0\n",
      "customer_city               0\n",
      "customer_state              0\n",
      "dtype: int64\n",
      "\n",
      "Geolocation:\n",
      " geolocation_zip_code_prefix    0\n",
      "geolocation_lat                0\n",
      "geolocation_lng                0\n",
      "geolocation_city               0\n",
      "geolocation_state              0\n",
      "dtype: int64\n",
      "\n",
      "🔍 Jumlah Duplikasi setelah Cleansing:\n",
      "Orders: 0\n",
      "Order Items: 0\n",
      "Products: 0\n",
      "Customers: 0\n",
      "Geolocation: 0\n",
      "\n",
      "🔍 Data Types setelah Konversi:\n",
      "\n",
      "order_id                                 object\n",
      "customer_id                              object\n",
      "order_status                             object\n",
      "order_purchase_timestamp         datetime64[ns]\n",
      "order_approved_at                datetime64[ns]\n",
      "order_delivered_carrier_date     datetime64[ns]\n",
      "order_delivered_customer_date    datetime64[ns]\n",
      "order_estimated_delivery_date    datetime64[ns]\n",
      "dtype: object\n",
      "\n",
      "🔍 Preview Data Orders setelah Cleansing:\n",
      "                            order_id                       customer_id  \\\n",
      "0  e481f51cbdc54678b7cc49136f2d6af7  9ef432eb6251297304e76186b10a928d   \n",
      "1  53cdb2fc8bc7dce0b6741e2150273451  b0830fb4747a6c6d20dea0b8c802d7ef   \n",
      "2  47770eb9100c2d0c44946d9cf07ec65d  41ce2a54c0b03bf3443c3d931a367089   \n",
      "3  949d5b44dbf5de918fe9c16f97b45f8a  f88197465ea7920adcdbec7375364d82   \n",
      "4  ad21c59c0840e6cb83a9ceb5573f8159  8ab97904e6daea8866dbdbc4fb7aad2c   \n",
      "\n",
      "  order_status order_purchase_timestamp   order_approved_at  \\\n",
      "0    delivered      2017-10-02 10:56:33 2017-10-02 11:07:15   \n",
      "1    delivered      2018-07-24 20:41:37 2018-07-26 03:24:27   \n",
      "2    delivered      2018-08-08 08:38:49 2018-08-08 08:55:23   \n",
      "3    delivered      2017-11-18 19:28:06 2017-11-18 19:45:59   \n",
      "4    delivered      2018-02-13 21:18:39 2018-02-13 22:20:29   \n",
      "\n",
      "  order_delivered_carrier_date order_delivered_customer_date  \\\n",
      "0          2017-10-04 19:55:00           2017-10-10 21:25:13   \n",
      "1          2018-07-26 14:31:00           2018-08-07 15:27:45   \n",
      "2          2018-08-08 13:50:00           2018-08-17 18:06:29   \n",
      "3          2017-11-22 13:39:59           2017-12-02 00:28:42   \n",
      "4          2018-02-14 19:46:34           2018-02-16 18:17:02   \n",
      "\n",
      "  order_estimated_delivery_date  \n",
      "0                    2017-10-18  \n",
      "1                    2018-08-13  \n",
      "2                    2018-09-04  \n",
      "3                    2017-12-15  \n",
      "4                    2018-02-26  \n",
      "\n",
      "🔍 Preview Data Products setelah Cleansing:\n",
      "                          product_id  product_category_name  \\\n",
      "0  1e9e8ef04dbcff4541ed26657ea517e5             perfumaria   \n",
      "1  3aa071139cb16b67ca9e5dea641aaa2f                  artes   \n",
      "2  96bd76ec8810374ed1b65e291975717f          esporte_lazer   \n",
      "3  cef67bcfe19066a932b7673e239eb23d                  bebes   \n",
      "4  9dc1a7de274444849c219cff195d0b71  utilidades_domesticas   \n",
      "\n",
      "   product_name_lenght  product_description_lenght  product_photos_qty  \\\n",
      "0                 40.0                       287.0                 1.0   \n",
      "1                 44.0                       276.0                 1.0   \n",
      "2                 46.0                       250.0                 1.0   \n",
      "3                 27.0                       261.0                 1.0   \n",
      "4                 37.0                       402.0                 4.0   \n",
      "\n",
      "   product_weight_g  product_length_cm  product_height_cm  product_width_cm  \n",
      "0             225.0               16.0               10.0              14.0  \n",
      "1            1000.0               30.0               18.0              20.0  \n",
      "2             154.0               18.0                9.0              15.0  \n",
      "3             371.0               26.0                4.0              26.0  \n",
      "4             625.0               20.0               17.0              13.0  \n",
      "\n",
      "🔍 Preview Data Customers setelah Cleansing:\n",
      "                         customer_id                customer_unique_id  \\\n",
      "0  06b8999e2fba1a1fbc88172c00ba8bc7  861eff4711a542e4b93843c6dd7febb0   \n",
      "1  18955e83d337fd6b2def6b18a428ac77  290c77bc529b7ac935b93aa66c333dc3   \n",
      "2  4e7b3e00288586ebd08712fdd0374a03  060e732b5b29e8181a18229c7b0b2b5e   \n",
      "3  b2b6027bc5c5109e529d4dc6358b12c3  259dac757896d24d7702b9acbbff3f3c   \n",
      "4  4f2d8ab171c80ec8364f7c12e35b23ad  345ecd01c38d18a9036ed96c73b8d066   \n",
      "\n",
      "   customer_zip_code_prefix          customer_city customer_state  \n",
      "0                     14409                 franca             SP  \n",
      "1                      9790  sao bernardo do campo             SP  \n",
      "2                      1151              sao paulo             SP  \n",
      "3                      8775        mogi das cruzes             SP  \n",
      "4                     13056               campinas             SP  \n"
     ]
    }
   ],
   "source": [
    "import pandas as pd\n",
    "\n",
    "# 1. Cek jumlah missing values setelah cleansing\n",
    "print(\"🔍 Missing Values setelah Cleansing:\\n\")\n",
    "print(\"Orders:\\n\", orders_df.isnull().sum())\n",
    "print(\"\\nOrder Items:\\n\", order_items_df.isnull().sum())\n",
    "print(\"\\nProducts:\\n\", products_df.isnull().sum())\n",
    "print(\"\\nCustomers:\\n\", customers_df.isnull().sum())\n",
    "print(\"\\nGeolocation:\\n\", geolocation_df.isnull().sum())\n",
    "\n",
    "# 2. Cek jumlah duplikasi setelah cleansing\n",
    "print(\"\\n🔍 Jumlah Duplikasi setelah Cleansing:\")\n",
    "print(\"Orders:\", orders_df.duplicated().sum())\n",
    "print(\"Order Items:\", order_items_df.duplicated().sum())\n",
    "print(\"Products:\", products_df.duplicated().sum())\n",
    "print(\"Customers:\", customers_df.duplicated().sum())\n",
    "print(\"Geolocation:\", geolocation_df.duplicated().sum())\n",
    "\n",
    "# 3. Cek tipe data setelah konversi\n",
    "print(\"\\n🔍 Data Types setelah Konversi:\\n\")\n",
    "print(orders_df.dtypes)\n",
    "\n",
    "# 4. Tampilkan beberapa baris pertama dari dataset untuk verifikasi\n",
    "print(\"\\n🔍 Preview Data Orders setelah Cleansing:\\n\", orders_df.head())\n",
    "print(\"\\n🔍 Preview Data Products setelah Cleansing:\\n\", products_df.head())\n",
    "print(\"\\n🔍 Preview Data Customers setelah Cleansing:\\n\", customers_df.head())\n"
   ]
  },
  {
   "cell_type": "markdown",
   "metadata": {
    "id": "Q_5ejIqckiSP"
   },
   "source": [
    "#### **Insight Setelah Data Cleansing**\n",
    "\n",
    "##### 1. Missing Values Setelah Pembersihan\n",
    "Setelah proses data cleansing, **semua missing values berhasil diatasi**. Tidak ada lagi nilai yang hilang dalam dataset.\n",
    "\n",
    "- **Orders**: 0 missing values.\n",
    "- **Order Items**: 0 missing values.\n",
    "- **Products**: 0 missing values.\n",
    "- **Customers**: 0 missing values.\n",
    "- **Geolocation**: 0 missing values.\n",
    "\n",
    "##### 2. Duplikasi Data\n",
    "Setelah pembersihan:\n",
    "\n",
    "- **Orders**: 0 duplikasi ✅\n",
    "- **Order Items**: 0 duplikasi ✅\n",
    "- **Products**: 0 duplikasi ✅\n",
    "- **Customers**: 0 duplikasi ✅\n",
    "- **Geolocation**: **261,831 duplikasi dihapus** 🔥\n",
    "\n",
    "📌 *Duplikasi data dapat menyebabkan overestimation dalam analisis, sehingga membersihkannya sangat penting untuk mendapatkan wawasan yang akurat.*\n",
    "\n",
    "---\n",
    "##### 3. Perubahan Tipe Data\n",
    "Beberapa kolom tanggal yang sebelumnya bertipe **object** telah dikonversi menjadi **datetime64[ns]**:\n",
    "\n",
    "- `order_purchase_timestamp`\n",
    "- `order_approved_at`\n",
    "- `order_delivered_carrier_date`\n",
    "- `order_delivered_customer_date`\n",
    "- `order_estimated_delivery_date`\n",
    "\n",
    "📌 *Dengan tipe data yang benar, kita bisa melakukan analisis berbasis waktu dengan lebih mudah dan akurat.*\n",
    "\n",
    "---\n",
    "##### 🔍 4. Gambaran Data Setelah Cleansing\n",
    "###### 🛍️ Orders\n",
    "- Data pesanan telah bersih dan siap digunakan untuk analisis tren pesanan per bulan.\n",
    "\n",
    "###### 📦 Products\n",
    "- Semua produk memiliki kategori, panjang nama, panjang deskripsi, jumlah foto, dan dimensi yang telah diisi dengan nilai yang sesuai.\n",
    "\n",
    "###### 🏡 Customers\n",
    "- Informasi pelanggan seperti lokasi dan kode pos telah diperiksa dan tidak ada nilai yang hilang.\n",
    "\n",
    "###### 📍 Geolocation\n",
    "- Data lokasi telah bersih tanpa duplikasi, memastikan akurasi dalam analisis distribusi pelanggan berdasarkan wilayah.\n",
    "\n",
    "---\n",
    "##### 🚀 **Kesimpulan**\n",
    "🎯 Dengan data yang telah bersih dan siap digunakan, kita sekarang bisa **menjawab pertanyaan bisnis** terkait:\n",
    "- 📈 **Tren jumlah pesanan per bulan**\n",
    "- 🏆 **Kategori produk paling laris**\n",
    "- 🎯 **Segmentasi pelanggan menggunakan RFM Analysis**\n",
    "- 🌍 **Distribusi geografis pelanggan berdasarkan jumlah pesanan**"
   ]
  },
  {
   "cell_type": "markdown",
   "metadata": {
    "id": "gp-Y6wU38DC1"
   },
   "source": [
    "## Exploratory Data Analysis (EDA)"
   ]
  },
  {
   "cell_type": "markdown",
   "metadata": {
    "id": "MW7WF2kr8DC1"
   },
   "source": [
    "#### **Explore ...**"
   ]
  },
  {
   "cell_type": "code",
   "execution_count": 29,
   "metadata": {},
   "outputs": [
    {
     "data": {
      "text/html": [
       "<div>\n",
       "<style scoped>\n",
       "    .dataframe tbody tr th:only-of-type {\n",
       "        vertical-align: middle;\n",
       "    }\n",
       "\n",
       "    .dataframe tbody tr th {\n",
       "        vertical-align: top;\n",
       "    }\n",
       "\n",
       "    .dataframe thead th {\n",
       "        text-align: right;\n",
       "    }\n",
       "</style>\n",
       "<table border=\"1\" class=\"dataframe\">\n",
       "  <thead>\n",
       "    <tr style=\"text-align: right;\">\n",
       "      <th></th>\n",
       "      <th>order_purchase_timestamp</th>\n",
       "      <th>order_approved_at</th>\n",
       "      <th>order_delivered_carrier_date</th>\n",
       "      <th>order_delivered_customer_date</th>\n",
       "      <th>order_estimated_delivery_date</th>\n",
       "    </tr>\n",
       "  </thead>\n",
       "  <tbody>\n",
       "    <tr>\n",
       "      <th>count</th>\n",
       "      <td>96461</td>\n",
       "      <td>96461</td>\n",
       "      <td>96461</td>\n",
       "      <td>96461</td>\n",
       "      <td>96461</td>\n",
       "    </tr>\n",
       "    <tr>\n",
       "      <th>mean</th>\n",
       "      <td>2018-01-01 23:53:26.642249216</td>\n",
       "      <td>2018-01-02 10:10:06.480142336</td>\n",
       "      <td>2018-01-05 05:21:04.508827392</td>\n",
       "      <td>2018-01-14 13:17:13.228102400</td>\n",
       "      <td>2018-01-25 17:33:14.236012544</td>\n",
       "    </tr>\n",
       "    <tr>\n",
       "      <th>min</th>\n",
       "      <td>2016-09-15 12:16:38</td>\n",
       "      <td>2016-09-15 12:16:38</td>\n",
       "      <td>2016-10-08 10:34:01</td>\n",
       "      <td>2016-10-11 13:46:32</td>\n",
       "      <td>2016-10-04 00:00:00</td>\n",
       "    </tr>\n",
       "    <tr>\n",
       "      <th>25%</th>\n",
       "      <td>2017-09-14 09:28:28</td>\n",
       "      <td>2017-09-14 14:30:14</td>\n",
       "      <td>2017-09-18 16:52:19</td>\n",
       "      <td>2017-09-25 22:31:59</td>\n",
       "      <td>2017-10-05 00:00:00</td>\n",
       "    </tr>\n",
       "    <tr>\n",
       "      <th>50%</th>\n",
       "      <td>2018-01-20 19:59:42</td>\n",
       "      <td>2018-01-22 13:49:00</td>\n",
       "      <td>2018-01-24 16:19:03</td>\n",
       "      <td>2018-02-02 19:50:56</td>\n",
       "      <td>2018-02-16 00:00:00</td>\n",
       "    </tr>\n",
       "    <tr>\n",
       "      <th>75%</th>\n",
       "      <td>2018-05-05 18:33:24</td>\n",
       "      <td>2018-05-06 10:30:49</td>\n",
       "      <td>2018-05-08 14:33:00</td>\n",
       "      <td>2018-05-15 23:08:54</td>\n",
       "      <td>2018-05-28 00:00:00</td>\n",
       "    </tr>\n",
       "    <tr>\n",
       "      <th>max</th>\n",
       "      <td>2018-08-29 15:00:37</td>\n",
       "      <td>2018-08-29 15:10:26</td>\n",
       "      <td>2018-09-11 19:48:28</td>\n",
       "      <td>2018-10-17 13:22:46</td>\n",
       "      <td>2018-10-25 00:00:00</td>\n",
       "    </tr>\n",
       "  </tbody>\n",
       "</table>\n",
       "</div>"
      ],
      "text/plain": [
       "            order_purchase_timestamp              order_approved_at  \\\n",
       "count                          96461                          96461   \n",
       "mean   2018-01-01 23:53:26.642249216  2018-01-02 10:10:06.480142336   \n",
       "min              2016-09-15 12:16:38            2016-09-15 12:16:38   \n",
       "25%              2017-09-14 09:28:28            2017-09-14 14:30:14   \n",
       "50%              2018-01-20 19:59:42            2018-01-22 13:49:00   \n",
       "75%              2018-05-05 18:33:24            2018-05-06 10:30:49   \n",
       "max              2018-08-29 15:00:37            2018-08-29 15:10:26   \n",
       "\n",
       "        order_delivered_carrier_date  order_delivered_customer_date  \\\n",
       "count                          96461                          96461   \n",
       "mean   2018-01-05 05:21:04.508827392  2018-01-14 13:17:13.228102400   \n",
       "min              2016-10-08 10:34:01            2016-10-11 13:46:32   \n",
       "25%              2017-09-18 16:52:19            2017-09-25 22:31:59   \n",
       "50%              2018-01-24 16:19:03            2018-02-02 19:50:56   \n",
       "75%              2018-05-08 14:33:00            2018-05-15 23:08:54   \n",
       "max              2018-09-11 19:48:28            2018-10-17 13:22:46   \n",
       "\n",
       "       order_estimated_delivery_date  \n",
       "count                          96461  \n",
       "mean   2018-01-25 17:33:14.236012544  \n",
       "min              2016-10-04 00:00:00  \n",
       "25%              2017-10-05 00:00:00  \n",
       "50%              2018-02-16 00:00:00  \n",
       "75%              2018-05-28 00:00:00  \n",
       "max              2018-10-25 00:00:00  "
      ]
     },
     "metadata": {},
     "output_type": "display_data"
    },
    {
     "data": {
      "text/html": [
       "<div>\n",
       "<style scoped>\n",
       "    .dataframe tbody tr th:only-of-type {\n",
       "        vertical-align: middle;\n",
       "    }\n",
       "\n",
       "    .dataframe tbody tr th {\n",
       "        vertical-align: top;\n",
       "    }\n",
       "\n",
       "    .dataframe thead th {\n",
       "        text-align: right;\n",
       "    }\n",
       "</style>\n",
       "<table border=\"1\" class=\"dataframe\">\n",
       "  <thead>\n",
       "    <tr style=\"text-align: right;\">\n",
       "      <th></th>\n",
       "      <th>order_item_id</th>\n",
       "      <th>price</th>\n",
       "      <th>freight_value</th>\n",
       "    </tr>\n",
       "  </thead>\n",
       "  <tbody>\n",
       "    <tr>\n",
       "      <th>count</th>\n",
       "      <td>112650.000000</td>\n",
       "      <td>112650.000000</td>\n",
       "      <td>112650.000000</td>\n",
       "    </tr>\n",
       "    <tr>\n",
       "      <th>mean</th>\n",
       "      <td>1.197834</td>\n",
       "      <td>120.653739</td>\n",
       "      <td>19.990320</td>\n",
       "    </tr>\n",
       "    <tr>\n",
       "      <th>std</th>\n",
       "      <td>0.705124</td>\n",
       "      <td>183.633928</td>\n",
       "      <td>15.806405</td>\n",
       "    </tr>\n",
       "    <tr>\n",
       "      <th>min</th>\n",
       "      <td>1.000000</td>\n",
       "      <td>0.850000</td>\n",
       "      <td>0.000000</td>\n",
       "    </tr>\n",
       "    <tr>\n",
       "      <th>25%</th>\n",
       "      <td>1.000000</td>\n",
       "      <td>39.900000</td>\n",
       "      <td>13.080000</td>\n",
       "    </tr>\n",
       "    <tr>\n",
       "      <th>50%</th>\n",
       "      <td>1.000000</td>\n",
       "      <td>74.990000</td>\n",
       "      <td>16.260000</td>\n",
       "    </tr>\n",
       "    <tr>\n",
       "      <th>75%</th>\n",
       "      <td>1.000000</td>\n",
       "      <td>134.900000</td>\n",
       "      <td>21.150000</td>\n",
       "    </tr>\n",
       "    <tr>\n",
       "      <th>max</th>\n",
       "      <td>21.000000</td>\n",
       "      <td>6735.000000</td>\n",
       "      <td>409.680000</td>\n",
       "    </tr>\n",
       "  </tbody>\n",
       "</table>\n",
       "</div>"
      ],
      "text/plain": [
       "       order_item_id          price  freight_value\n",
       "count  112650.000000  112650.000000  112650.000000\n",
       "mean        1.197834     120.653739      19.990320\n",
       "std         0.705124     183.633928      15.806405\n",
       "min         1.000000       0.850000       0.000000\n",
       "25%         1.000000      39.900000      13.080000\n",
       "50%         1.000000      74.990000      16.260000\n",
       "75%         1.000000     134.900000      21.150000\n",
       "max        21.000000    6735.000000     409.680000"
      ]
     },
     "metadata": {},
     "output_type": "display_data"
    },
    {
     "data": {
      "text/html": [
       "<div>\n",
       "<style scoped>\n",
       "    .dataframe tbody tr th:only-of-type {\n",
       "        vertical-align: middle;\n",
       "    }\n",
       "\n",
       "    .dataframe tbody tr th {\n",
       "        vertical-align: top;\n",
       "    }\n",
       "\n",
       "    .dataframe thead th {\n",
       "        text-align: right;\n",
       "    }\n",
       "</style>\n",
       "<table border=\"1\" class=\"dataframe\">\n",
       "  <thead>\n",
       "    <tr style=\"text-align: right;\">\n",
       "      <th></th>\n",
       "      <th>product_name_lenght</th>\n",
       "      <th>product_description_lenght</th>\n",
       "      <th>product_photos_qty</th>\n",
       "      <th>product_weight_g</th>\n",
       "      <th>product_length_cm</th>\n",
       "      <th>product_height_cm</th>\n",
       "      <th>product_width_cm</th>\n",
       "    </tr>\n",
       "  </thead>\n",
       "  <tbody>\n",
       "    <tr>\n",
       "      <th>count</th>\n",
       "      <td>32951.000000</td>\n",
       "      <td>32951.000000</td>\n",
       "      <td>32951.000000</td>\n",
       "      <td>32951.000000</td>\n",
       "      <td>32951.000000</td>\n",
       "      <td>32951.000000</td>\n",
       "      <td>32951.000000</td>\n",
       "    </tr>\n",
       "    <tr>\n",
       "      <th>mean</th>\n",
       "      <td>48.523656</td>\n",
       "      <td>768.227945</td>\n",
       "      <td>2.166975</td>\n",
       "      <td>2276.376802</td>\n",
       "      <td>30.814725</td>\n",
       "      <td>16.937422</td>\n",
       "      <td>23.196534</td>\n",
       "    </tr>\n",
       "    <tr>\n",
       "      <th>std</th>\n",
       "      <td>10.156155</td>\n",
       "      <td>629.658469</td>\n",
       "      <td>1.728063</td>\n",
       "      <td>4281.926387</td>\n",
       "      <td>16.914005</td>\n",
       "      <td>13.637175</td>\n",
       "      <td>12.078707</td>\n",
       "    </tr>\n",
       "    <tr>\n",
       "      <th>min</th>\n",
       "      <td>5.000000</td>\n",
       "      <td>4.000000</td>\n",
       "      <td>1.000000</td>\n",
       "      <td>0.000000</td>\n",
       "      <td>7.000000</td>\n",
       "      <td>2.000000</td>\n",
       "      <td>6.000000</td>\n",
       "    </tr>\n",
       "    <tr>\n",
       "      <th>25%</th>\n",
       "      <td>42.000000</td>\n",
       "      <td>344.000000</td>\n",
       "      <td>1.000000</td>\n",
       "      <td>300.000000</td>\n",
       "      <td>18.000000</td>\n",
       "      <td>8.000000</td>\n",
       "      <td>15.000000</td>\n",
       "    </tr>\n",
       "    <tr>\n",
       "      <th>50%</th>\n",
       "      <td>51.000000</td>\n",
       "      <td>595.000000</td>\n",
       "      <td>1.000000</td>\n",
       "      <td>700.000000</td>\n",
       "      <td>25.000000</td>\n",
       "      <td>13.000000</td>\n",
       "      <td>20.000000</td>\n",
       "    </tr>\n",
       "    <tr>\n",
       "      <th>75%</th>\n",
       "      <td>57.000000</td>\n",
       "      <td>961.000000</td>\n",
       "      <td>3.000000</td>\n",
       "      <td>1900.000000</td>\n",
       "      <td>38.000000</td>\n",
       "      <td>21.000000</td>\n",
       "      <td>30.000000</td>\n",
       "    </tr>\n",
       "    <tr>\n",
       "      <th>max</th>\n",
       "      <td>76.000000</td>\n",
       "      <td>3992.000000</td>\n",
       "      <td>20.000000</td>\n",
       "      <td>40425.000000</td>\n",
       "      <td>105.000000</td>\n",
       "      <td>105.000000</td>\n",
       "      <td>118.000000</td>\n",
       "    </tr>\n",
       "  </tbody>\n",
       "</table>\n",
       "</div>"
      ],
      "text/plain": [
       "       product_name_lenght  product_description_lenght  product_photos_qty  \\\n",
       "count         32951.000000                32951.000000        32951.000000   \n",
       "mean             48.523656                  768.227945            2.166975   \n",
       "std              10.156155                  629.658469            1.728063   \n",
       "min               5.000000                    4.000000            1.000000   \n",
       "25%              42.000000                  344.000000            1.000000   \n",
       "50%              51.000000                  595.000000            1.000000   \n",
       "75%              57.000000                  961.000000            3.000000   \n",
       "max              76.000000                 3992.000000           20.000000   \n",
       "\n",
       "       product_weight_g  product_length_cm  product_height_cm  \\\n",
       "count      32951.000000       32951.000000       32951.000000   \n",
       "mean        2276.376802          30.814725          16.937422   \n",
       "std         4281.926387          16.914005          13.637175   \n",
       "min            0.000000           7.000000           2.000000   \n",
       "25%          300.000000          18.000000           8.000000   \n",
       "50%          700.000000          25.000000          13.000000   \n",
       "75%         1900.000000          38.000000          21.000000   \n",
       "max        40425.000000         105.000000         105.000000   \n",
       "\n",
       "       product_width_cm  \n",
       "count      32951.000000  \n",
       "mean          23.196534  \n",
       "std           12.078707  \n",
       "min            6.000000  \n",
       "25%           15.000000  \n",
       "50%           20.000000  \n",
       "75%           30.000000  \n",
       "max          118.000000  "
      ]
     },
     "metadata": {},
     "output_type": "display_data"
    },
    {
     "data": {
      "text/html": [
       "<div>\n",
       "<style scoped>\n",
       "    .dataframe tbody tr th:only-of-type {\n",
       "        vertical-align: middle;\n",
       "    }\n",
       "\n",
       "    .dataframe tbody tr th {\n",
       "        vertical-align: top;\n",
       "    }\n",
       "\n",
       "    .dataframe thead th {\n",
       "        text-align: right;\n",
       "    }\n",
       "</style>\n",
       "<table border=\"1\" class=\"dataframe\">\n",
       "  <thead>\n",
       "    <tr style=\"text-align: right;\">\n",
       "      <th></th>\n",
       "      <th>customer_zip_code_prefix</th>\n",
       "    </tr>\n",
       "  </thead>\n",
       "  <tbody>\n",
       "    <tr>\n",
       "      <th>count</th>\n",
       "      <td>99441.000000</td>\n",
       "    </tr>\n",
       "    <tr>\n",
       "      <th>mean</th>\n",
       "      <td>35137.474583</td>\n",
       "    </tr>\n",
       "    <tr>\n",
       "      <th>std</th>\n",
       "      <td>29797.938996</td>\n",
       "    </tr>\n",
       "    <tr>\n",
       "      <th>min</th>\n",
       "      <td>1003.000000</td>\n",
       "    </tr>\n",
       "    <tr>\n",
       "      <th>25%</th>\n",
       "      <td>11347.000000</td>\n",
       "    </tr>\n",
       "    <tr>\n",
       "      <th>50%</th>\n",
       "      <td>24416.000000</td>\n",
       "    </tr>\n",
       "    <tr>\n",
       "      <th>75%</th>\n",
       "      <td>58900.000000</td>\n",
       "    </tr>\n",
       "    <tr>\n",
       "      <th>max</th>\n",
       "      <td>99990.000000</td>\n",
       "    </tr>\n",
       "  </tbody>\n",
       "</table>\n",
       "</div>"
      ],
      "text/plain": [
       "       customer_zip_code_prefix\n",
       "count              99441.000000\n",
       "mean               35137.474583\n",
       "std                29797.938996\n",
       "min                 1003.000000\n",
       "25%                11347.000000\n",
       "50%                24416.000000\n",
       "75%                58900.000000\n",
       "max                99990.000000"
      ]
     },
     "metadata": {},
     "output_type": "display_data"
    },
    {
     "data": {
      "text/html": [
       "<div>\n",
       "<style scoped>\n",
       "    .dataframe tbody tr th:only-of-type {\n",
       "        vertical-align: middle;\n",
       "    }\n",
       "\n",
       "    .dataframe tbody tr th {\n",
       "        vertical-align: top;\n",
       "    }\n",
       "\n",
       "    .dataframe thead th {\n",
       "        text-align: right;\n",
       "    }\n",
       "</style>\n",
       "<table border=\"1\" class=\"dataframe\">\n",
       "  <thead>\n",
       "    <tr style=\"text-align: right;\">\n",
       "      <th></th>\n",
       "      <th>geolocation_zip_code_prefix</th>\n",
       "      <th>geolocation_lat</th>\n",
       "      <th>geolocation_lng</th>\n",
       "    </tr>\n",
       "  </thead>\n",
       "  <tbody>\n",
       "    <tr>\n",
       "      <th>count</th>\n",
       "      <td>738332.000000</td>\n",
       "      <td>738332.000000</td>\n",
       "      <td>738332.000000</td>\n",
       "    </tr>\n",
       "    <tr>\n",
       "      <th>mean</th>\n",
       "      <td>38316.086800</td>\n",
       "      <td>-20.998353</td>\n",
       "      <td>-46.461098</td>\n",
       "    </tr>\n",
       "    <tr>\n",
       "      <th>std</th>\n",
       "      <td>30632.496675</td>\n",
       "      <td>5.892315</td>\n",
       "      <td>4.393705</td>\n",
       "    </tr>\n",
       "    <tr>\n",
       "      <th>min</th>\n",
       "      <td>1001.000000</td>\n",
       "      <td>-36.605374</td>\n",
       "      <td>-101.466766</td>\n",
       "    </tr>\n",
       "    <tr>\n",
       "      <th>25%</th>\n",
       "      <td>12600.000000</td>\n",
       "      <td>-23.603061</td>\n",
       "      <td>-48.867822</td>\n",
       "    </tr>\n",
       "    <tr>\n",
       "      <th>50%</th>\n",
       "      <td>29144.000000</td>\n",
       "      <td>-22.873588</td>\n",
       "      <td>-46.647278</td>\n",
       "    </tr>\n",
       "    <tr>\n",
       "      <th>75%</th>\n",
       "      <td>65950.000000</td>\n",
       "      <td>-19.923336</td>\n",
       "      <td>-43.836974</td>\n",
       "    </tr>\n",
       "    <tr>\n",
       "      <th>max</th>\n",
       "      <td>99990.000000</td>\n",
       "      <td>45.065933</td>\n",
       "      <td>121.105394</td>\n",
       "    </tr>\n",
       "  </tbody>\n",
       "</table>\n",
       "</div>"
      ],
      "text/plain": [
       "       geolocation_zip_code_prefix  geolocation_lat  geolocation_lng\n",
       "count                738332.000000    738332.000000    738332.000000\n",
       "mean                  38316.086800       -20.998353       -46.461098\n",
       "std                   30632.496675         5.892315         4.393705\n",
       "min                    1001.000000       -36.605374      -101.466766\n",
       "25%                   12600.000000       -23.603061       -48.867822\n",
       "50%                   29144.000000       -22.873588       -46.647278\n",
       "75%                   65950.000000       -19.923336       -43.836974\n",
       "max                   99990.000000        45.065933       121.105394"
      ]
     },
     "metadata": {},
     "output_type": "display_data"
    }
   ],
   "source": [
    "# Menampilkan statistik deskriptif dalam bentuk tabel yang rapi\n",
    "describe_orders = orders_df.describe().dropna()\n",
    "describe_order_items = order_items_df.describe().dropna()\n",
    "describe_products = products_df.describe().dropna()\n",
    "describe_customers = customers_df.describe().dropna()\n",
    "describe_geolocation = geolocation_df.describe().dropna()\n",
    "\n",
    "# Tampilkan tabelnya\n",
    "display(describe_orders, describe_order_items, describe_products, describe_customers, describe_geolocation)"
   ]
  },
  {
   "cell_type": "markdown",
   "metadata": {},
   "source": [
    "### **EDA UNTUK FOKUS DI TIAP PERTANYAAN**"
   ]
  },
  {
   "cell_type": "markdown",
   "metadata": {},
   "source": [
    "#### **1️⃣ Pola Jumlah Pesanan per Bulan**\n"
   ]
  },
  {
   "cell_type": "code",
   "execution_count": 30,
   "metadata": {},
   "outputs": [
    {
     "ename": "KeyError",
     "evalue": "'order_purchase_timestamp'",
     "output_type": "error",
     "traceback": [
      "\u001b[31m---------------------------------------------------------------------------\u001b[39m",
      "\u001b[31mKeyError\u001b[39m                                  Traceback (most recent call last)",
      "\u001b[36mFile \u001b[39m\u001b[32mc:\\KULIAH\\LASKAR AI\\Belajar Analisis Data Dengan Python\\project\\submission\\dataAnalytics\\Lib\\site-packages\\pandas\\core\\indexes\\base.py:3805\u001b[39m, in \u001b[36mIndex.get_loc\u001b[39m\u001b[34m(self, key)\u001b[39m\n\u001b[32m   3804\u001b[39m \u001b[38;5;28;01mtry\u001b[39;00m:\n\u001b[32m-> \u001b[39m\u001b[32m3805\u001b[39m     \u001b[38;5;28;01mreturn\u001b[39;00m \u001b[38;5;28;43mself\u001b[39;49m\u001b[43m.\u001b[49m\u001b[43m_engine\u001b[49m\u001b[43m.\u001b[49m\u001b[43mget_loc\u001b[49m\u001b[43m(\u001b[49m\u001b[43mcasted_key\u001b[49m\u001b[43m)\u001b[49m\n\u001b[32m   3806\u001b[39m \u001b[38;5;28;01mexcept\u001b[39;00m \u001b[38;5;167;01mKeyError\u001b[39;00m \u001b[38;5;28;01mas\u001b[39;00m err:\n",
      "\u001b[36mFile \u001b[39m\u001b[32mindex.pyx:167\u001b[39m, in \u001b[36mpandas._libs.index.IndexEngine.get_loc\u001b[39m\u001b[34m()\u001b[39m\n",
      "\u001b[36mFile \u001b[39m\u001b[32mindex.pyx:196\u001b[39m, in \u001b[36mpandas._libs.index.IndexEngine.get_loc\u001b[39m\u001b[34m()\u001b[39m\n",
      "\u001b[36mFile \u001b[39m\u001b[32mpandas\\\\_libs\\\\hashtable_class_helper.pxi:7081\u001b[39m, in \u001b[36mpandas._libs.hashtable.PyObjectHashTable.get_item\u001b[39m\u001b[34m()\u001b[39m\n",
      "\u001b[36mFile \u001b[39m\u001b[32mpandas\\\\_libs\\\\hashtable_class_helper.pxi:7089\u001b[39m, in \u001b[36mpandas._libs.hashtable.PyObjectHashTable.get_item\u001b[39m\u001b[34m()\u001b[39m\n",
      "\u001b[31mKeyError\u001b[39m: 'order_purchase_timestamp'",
      "\nThe above exception was the direct cause of the following exception:\n",
      "\u001b[31mKeyError\u001b[39m                                  Traceback (most recent call last)",
      "\u001b[36mCell\u001b[39m\u001b[36m \u001b[39m\u001b[32mIn[30]\u001b[39m\u001b[32m, line 2\u001b[39m\n\u001b[32m      1\u001b[39m \u001b[38;5;66;03m# Pastikan order_purchase_timestamp dalam format datetime\u001b[39;00m\n\u001b[32m----> \u001b[39m\u001b[32m2\u001b[39m order_items_df[\u001b[33m'\u001b[39m\u001b[33morder_purchase_timestamp\u001b[39m\u001b[33m'\u001b[39m] = pd.to_datetime(\u001b[43morder_items_df\u001b[49m\u001b[43m[\u001b[49m\u001b[33;43m'\u001b[39;49m\u001b[33;43morder_purchase_timestamp\u001b[39;49m\u001b[33;43m'\u001b[39;49m\u001b[43m]\u001b[49m)\n\u001b[32m      4\u001b[39m \u001b[38;5;66;03m# Buat kolom bulan dari order_purchase_timestamp\u001b[39;00m\n\u001b[32m      5\u001b[39m order_items_df[\u001b[33m'\u001b[39m\u001b[33morder_month\u001b[39m\u001b[33m'\u001b[39m] = order_items_df[\u001b[33m'\u001b[39m\u001b[33morder_purchase_timestamp\u001b[39m\u001b[33m'\u001b[39m].dt.to_period(\u001b[33m'\u001b[39m\u001b[33mM\u001b[39m\u001b[33m'\u001b[39m)\n",
      "\u001b[36mFile \u001b[39m\u001b[32mc:\\KULIAH\\LASKAR AI\\Belajar Analisis Data Dengan Python\\project\\submission\\dataAnalytics\\Lib\\site-packages\\pandas\\core\\frame.py:4102\u001b[39m, in \u001b[36mDataFrame.__getitem__\u001b[39m\u001b[34m(self, key)\u001b[39m\n\u001b[32m   4100\u001b[39m \u001b[38;5;28;01mif\u001b[39;00m \u001b[38;5;28mself\u001b[39m.columns.nlevels > \u001b[32m1\u001b[39m:\n\u001b[32m   4101\u001b[39m     \u001b[38;5;28;01mreturn\u001b[39;00m \u001b[38;5;28mself\u001b[39m._getitem_multilevel(key)\n\u001b[32m-> \u001b[39m\u001b[32m4102\u001b[39m indexer = \u001b[38;5;28;43mself\u001b[39;49m\u001b[43m.\u001b[49m\u001b[43mcolumns\u001b[49m\u001b[43m.\u001b[49m\u001b[43mget_loc\u001b[49m\u001b[43m(\u001b[49m\u001b[43mkey\u001b[49m\u001b[43m)\u001b[49m\n\u001b[32m   4103\u001b[39m \u001b[38;5;28;01mif\u001b[39;00m is_integer(indexer):\n\u001b[32m   4104\u001b[39m     indexer = [indexer]\n",
      "\u001b[36mFile \u001b[39m\u001b[32mc:\\KULIAH\\LASKAR AI\\Belajar Analisis Data Dengan Python\\project\\submission\\dataAnalytics\\Lib\\site-packages\\pandas\\core\\indexes\\base.py:3812\u001b[39m, in \u001b[36mIndex.get_loc\u001b[39m\u001b[34m(self, key)\u001b[39m\n\u001b[32m   3807\u001b[39m     \u001b[38;5;28;01mif\u001b[39;00m \u001b[38;5;28misinstance\u001b[39m(casted_key, \u001b[38;5;28mslice\u001b[39m) \u001b[38;5;129;01mor\u001b[39;00m (\n\u001b[32m   3808\u001b[39m         \u001b[38;5;28misinstance\u001b[39m(casted_key, abc.Iterable)\n\u001b[32m   3809\u001b[39m         \u001b[38;5;129;01mand\u001b[39;00m \u001b[38;5;28many\u001b[39m(\u001b[38;5;28misinstance\u001b[39m(x, \u001b[38;5;28mslice\u001b[39m) \u001b[38;5;28;01mfor\u001b[39;00m x \u001b[38;5;129;01min\u001b[39;00m casted_key)\n\u001b[32m   3810\u001b[39m     ):\n\u001b[32m   3811\u001b[39m         \u001b[38;5;28;01mraise\u001b[39;00m InvalidIndexError(key)\n\u001b[32m-> \u001b[39m\u001b[32m3812\u001b[39m     \u001b[38;5;28;01mraise\u001b[39;00m \u001b[38;5;167;01mKeyError\u001b[39;00m(key) \u001b[38;5;28;01mfrom\u001b[39;00m\u001b[38;5;250m \u001b[39m\u001b[34;01merr\u001b[39;00m\n\u001b[32m   3813\u001b[39m \u001b[38;5;28;01mexcept\u001b[39;00m \u001b[38;5;167;01mTypeError\u001b[39;00m:\n\u001b[32m   3814\u001b[39m     \u001b[38;5;66;03m# If we have a listlike key, _check_indexing_error will raise\u001b[39;00m\n\u001b[32m   3815\u001b[39m     \u001b[38;5;66;03m#  InvalidIndexError. Otherwise we fall through and re-raise\u001b[39;00m\n\u001b[32m   3816\u001b[39m     \u001b[38;5;66;03m#  the TypeError.\u001b[39;00m\n\u001b[32m   3817\u001b[39m     \u001b[38;5;28mself\u001b[39m._check_indexing_error(key)\n",
      "\u001b[31mKeyError\u001b[39m: 'order_purchase_timestamp'"
     ]
    }
   ],
   "source": [
    "# Pastikan order_purchase_timestamp dalam format datetime\n",
    "order_items_df['order_purchase_timestamp'] = pd.to_datetime(order_items_df['order_purchase_timestamp'])\n",
    "\n",
    "# Buat kolom bulan dari order_purchase_timestamp\n",
    "order_items_df['order_month'] = order_items_df['order_purchase_timestamp'].dt.to_period('M')\n",
    "\n",
    "# Hitung jumlah pesanan per bulan\n",
    "orders_per_month = order_items_df.groupby('order_month')['order_id'].nunique().reset_index()\n",
    "\n",
    "# Cek hasilnya\n",
    "print(orders_per_month.head())\n"
   ]
  },
  {
   "cell_type": "markdown",
   "metadata": {},
   "source": [
    "#### **2️⃣ Kategori Produk yang Paling Banyak Dibeli** "
   ]
  },
  {
   "cell_type": "code",
   "execution_count": null,
   "metadata": {},
   "outputs": [
    {
     "name": "stdout",
     "output_type": "stream",
     "text": [
      "    product_category_name  order_count\n",
      "0         cama_mesa_banho        11115\n",
      "1            beleza_saude         9670\n",
      "2           esporte_lazer         8641\n",
      "3        moveis_decoracao         8334\n",
      "4  informatica_acessorios         7827\n",
      "5   utilidades_domesticas         6964\n",
      "6      relogios_presentes         5991\n",
      "7               telefonia         4545\n",
      "8      ferramentas_jardim         4347\n",
      "9              automotivo         4235\n"
     ]
    }
   ],
   "source": [
    "# Hitung jumlah pesanan per kategori produk\n",
    "top_categories = order_items_df['product_category_name_x'].value_counts().reset_index()\n",
    "top_categories.columns = ['product_category_name', 'order_count']\n",
    "\n",
    "# Cek 10 kategori teratas\n",
    "print(top_categories.head(10))\n"
   ]
  },
  {
   "cell_type": "markdown",
   "metadata": {},
   "source": [
    "#### **3️⃣ Segmentasi Pelanggan dengan RFM Analysis**"
   ]
  },
  {
   "cell_type": "code",
   "execution_count": null,
   "metadata": {},
   "outputs": [
    {
     "name": "stdout",
     "output_type": "stream",
     "text": [
      "🔍 Outlier Recency: 1 data | Batas: -235.00 - 701.00\n",
      "                                  Recency  Frequency  Monetary\n",
      "customer_id                                                   \n",
      "86dc2ffce2dfff336de2f386a786e574      714          3    134.97\n",
      "🔍 Outlier Frequency: 9635 data | Batas: 1.00 - 1.00\n",
      "                                  Recency  Frequency  Monetary\n",
      "customer_id                                                   \n",
      "00066ccbe787a588c52bd5ff404590e3      204          4    199.60\n",
      "000bf8121c3412d3057d32371c5d3395      323          2     30.00\n",
      "001450ebb4a77efb3d68be5f7887cb1e      185          2     37.64\n",
      "002f90a6eb386bc43bc9ba200db31a89      440          2    119.80\n",
      "0031abfb953b66e998f67b09e7b11375      219          2    637.90\n",
      "...                                   ...        ...       ...\n",
      "ffde64401f7cb62d2e8696d9467c781d      114          2    359.80\n",
      "ffed5d4f6245fe13cd57054621eec36a      189          2     92.66\n",
      "fff168ca1f8a1d2e8e2108b231a68a8c       40          3     47.70\n",
      "fff93c1da78dafaaa304ff032abc6205       78          3    198.89\n",
      "ffffa3172527f765de70084a7e53aae8      362          2     21.80\n",
      "\n",
      "[9635 rows x 3 columns]\n",
      "🔍 Outlier Monetary: 7656 data | Batas: -110.10 - 305.90\n",
      "                                  Recency  Frequency  Monetary\n",
      "customer_id                                                   \n",
      "000598caf2ef4117407665ac33275130       19          1   1107.00\n",
      "0012a5c13793cf51e253f096a7e740dd      178          1    349.90\n",
      "00205ad9ba1ef4340cef86583294cf82      109          1    899.90\n",
      "0029cdf064769cabdf3186b54d068c99      207          1    459.99\n",
      "002c625393dfa194828b462a6ef8cb0b      284          1    311.25\n",
      "...                                   ...        ...       ...\n",
      "ffbab84622e367ac800d8e9874fc48ad      546          1    794.98\n",
      "ffc0c21bf66cb129c62d8f89ed19c26c       38          1   1389.99\n",
      "ffd294eea523f67ee8c743d3a904ee20      379          4    880.00\n",
      "ffde64401f7cb62d2e8696d9467c781d      114          2    359.80\n",
      "ffde74a56e489b52112c7dbfff53d191      421          1    324.30\n",
      "\n",
      "[7656 rows x 3 columns]\n"
     ]
    }
   ],
   "source": [
    "# Tentukan snapshot date (1 hari setelah tanggal terakhir pembelian)\n",
    "snapshot_date = order_items_df['order_purchase_timestamp'].max() + dt.timedelta(days=1)\n",
    "\n",
    "# Hitung RFM\n",
    "rfm_df = order_items_df.groupby('customer_id').agg({\n",
    "    'order_purchase_timestamp': lambda x: (snapshot_date - x.max()).days,  # Recency\n",
    "    'order_id': 'count',  # Frequency\n",
    "    'price': 'sum'  # Monetary\n",
    "}).rename(columns={'order_purchase_timestamp': 'Recency', 'order_id': 'Frequency', 'price': 'Monetary'})\n",
    "\n",
    "# Fungsi untuk mendeteksi outlier menggunakan metode IQR\n",
    "def detect_outliers(df, column):\n",
    "    Q1 = df[column].quantile(0.25)  # Kuartil pertama\n",
    "    Q3 = df[column].quantile(0.75)  # Kuartil ketiga\n",
    "    IQR = Q3 - Q1  # Rentang interkuartil\n",
    "    lower_bound = Q1 - 1.5 * IQR  # Batas bawah\n",
    "    upper_bound = Q3 + 1.5 * IQR  # Batas atas\n",
    "\n",
    "    # Identifikasi outlier\n",
    "    outliers = df[(df[column] < lower_bound) | (df[column] > upper_bound)]\n",
    "    return outliers, lower_bound, upper_bound\n",
    "\n",
    "# Deteksi outlier pada setiap kolom RFM\n",
    "outliers_recency, lb_rec, ub_rec = detect_outliers(rfm_df, 'Recency')\n",
    "outliers_frequency, lb_freq, ub_freq = detect_outliers(rfm_df, 'Frequency')\n",
    "outliers_monetary, lb_mon, ub_mon = detect_outliers(rfm_df, 'Monetary')\n",
    "\n",
    "# Tampilkan informasi outlier\n",
    "print(f\"🔍 Outlier Recency: {len(outliers_recency)} data | Batas: {lb_rec:.2f} - {ub_rec:.2f}\")\n",
    "print(outliers_recency)\n",
    "print(f\"🔍 Outlier Frequency: {len(outliers_frequency)} data | Batas: {lb_freq:.2f} - {ub_freq:.2f}\")\n",
    "print(outliers_frequency)\n",
    "print(f\"🔍 Outlier Monetary: {len(outliers_monetary)} data | Batas: {lb_mon:.2f} - {ub_mon:.2f}\")\n",
    "print(outliers_monetary)\n",
    "\n"
   ]
  },
  {
   "cell_type": "code",
   "execution_count": null,
   "metadata": {},
   "outputs": [
    {
     "name": "stdout",
     "output_type": "stream",
     "text": [
      "\n",
      "Jumlah data sebelum pembersihan outlier: 96461\n",
      "Jumlah data setelah pembersihan outlier: 80016\n"
     ]
    }
   ],
   "source": [
    "# Fungsi untuk menghapus outlier\n",
    "def remove_outliers(df, column):\n",
    "    Q1 = df[column].quantile(0.25)  # Kuartil pertama\n",
    "    Q3 = df[column].quantile(0.75)  # Kuartil ketiga\n",
    "    IQR = Q3 - Q1  # Rentang interkuartil\n",
    "    lower_bound = Q1 - 1.5 * IQR  # Batas bawah\n",
    "    upper_bound = Q3 + 1.5 * IQR  # Batas atas\n",
    "    return df[(df[column] >= lower_bound) & (df[column] <= upper_bound)]\n",
    "\n",
    "# Hapus outlier untuk setiap kolom RFM\n",
    "rfm_df_clean = remove_outliers(rfm_df, 'Recency')\n",
    "rfm_df_clean = remove_outliers(rfm_df_clean, 'Frequency')\n",
    "rfm_df_clean = remove_outliers(rfm_df_clean, 'Monetary')\n",
    "\n",
    "# Cek hasil setelah menghapus outlier\n",
    "print(f\"\\nJumlah data sebelum pembersihan outlier: {len(rfm_df)}\")\n",
    "print(f\"Jumlah data setelah pembersihan outlier: {len(rfm_df_clean)}\")"
   ]
  },
  {
   "cell_type": "markdown",
   "metadata": {},
   "source": [
    "#### **4️⃣ Distribusi Geografis Pelanggan berdasarkan Jumlah Pesanan**"
   ]
  },
  {
   "cell_type": "code",
   "execution_count": null,
   "metadata": {},
   "outputs": [
    {
     "name": "stdout",
     "output_type": "stream",
     "text": [
      "  customer_state_x  order_id\n",
      "0               AC        80\n",
      "1               AL       397\n",
      "2               AM       145\n",
      "3               AP        67\n",
      "4               BA      3256\n"
     ]
    }
   ],
   "source": [
    "# Gabungkan order_items_df dengan customers_df untuk mendapatkan lokasi pelanggan\n",
    "order_items_df = order_items_df.merge(customers_df[['customer_id', 'customer_state']], on='customer_id', how='left')\n",
    "\n",
    "# Hitung jumlah pesanan per negara bagian\n",
    "orders_by_state = order_items_df.groupby('customer_state_x')['order_id'].nunique().reset_index()\n",
    "\n",
    "# Cek hasilnya\n",
    "print(orders_by_state.head())\n"
   ]
  },
  {
   "cell_type": "markdown",
   "metadata": {
    "id": "th_Lzl2Fkj9O"
   },
   "source": [
    "**Insight:**\n",
    "- xxx\n",
    "- xxx"
   ]
  },
  {
   "cell_type": "markdown",
   "metadata": {
    "id": "zsyZjqak8DC2"
   },
   "source": [
    "## Visualization & Explanatory Analysis"
   ]
  },
  {
   "cell_type": "markdown",
   "metadata": {
    "id": "HZxOiQ6n8DC2"
   },
   "source": [
    "#### 1️⃣ Pola Jumlah Pesanan per Bulan  \n",
    "##### Alasan Analisis  \n",
    "Untuk memahami tren penjualan, penting untuk melihat bagaimana jumlah pesanan berubah setiap bulan. Dengan analisis ini, kita bisa mengetahui periode dengan penjualan tertinggi dan terendah, serta pola musiman yang mungkin terjadi."
   ]
  },
  {
   "cell_type": "code",
   "execution_count": null,
   "metadata": {
    "id": "1swJUdAD8DC2"
   },
   "outputs": [
    {
     "data": {
      "image/png": "[encoded data removed]",
      "text/plain": [
       "<Figure size 1200x600 with 1 Axes>"
      ]
     },
     "metadata": {},
     "output_type": "display_data"
    }
   ],
   "source": [
    "# 1️⃣ Visualisasi Pola Jumlah Pesanan per Bulan\n",
    "plt.figure(figsize=(12, 6))\n",
    "plt.plot(orders_per_month['order_month'].astype(str), orders_per_month['order_id'], marker='o', linestyle='-')\n",
    "plt.xticks(rotation=45)\n",
    "plt.xlabel('Bulan')\n",
    "plt.ylabel('Jumlah Pesanan')\n",
    "plt.title('Tren Jumlah Pesanan per Bulan')\n",
    "plt.grid(True)\n",
    "plt.show()"
   ]
  },
  {
   "cell_type": "markdown",
   "metadata": {
    "id": "DgHI7CiU8DC2"
   },
   "source": [
    "#### 2️⃣ Kategori Produk yang Paling Banyak Dibeli  \n",
    "##### Alasan Analisis  \n",
    "Mengetahui kategori produk terlaris membantu bisnis memahami preferensi pelanggan. Informasi ini berguna untuk strategi pemasaran, stok barang, dan pengembangan produk di masa depan."
   ]
  },
  {
   "cell_type": "code",
   "execution_count": null,
   "metadata": {
    "id": "Go0lCsvO8DC2"
   },
   "outputs": [
    {
     "name": "stderr",
     "output_type": "stream",
     "text": [
      "C:\\Users\\faish\\AppData\\Local\\Temp\\ipykernel_27200\\3657953415.py:2: FutureWarning: \n",
      "\n",
      "Passing `palette` without assigning `hue` is deprecated and will be removed in v0.14.0. Assign the `y` variable to `hue` and set `legend=False` for the same effect.\n",
      "\n",
      "  sns.barplot(x='order_count', y='product_category_name', data=top_categories.head(10), palette='viridis')\n"
     ]
    },
    {
     "data": {
      "image/png": "[encoded data removed]",
      "text/plain": [
       "<Figure size 1200x600 with 1 Axes>"
      ]
     },
     "metadata": {},
     "output_type": "display_data"
    }
   ],
   "source": [
    "plt.figure(figsize=(12, 6))\n",
    "sns.barplot(x='order_count', y='product_category_name', data=top_categories.head(10), palette='viridis')\n",
    "plt.xlabel('Jumlah Pesanan')\n",
    "plt.ylabel('Kategori Produk')\n",
    "plt.title('10 Kategori Produk Terlaris')\n",
    "plt.show()"
   ]
  },
  {
   "cell_type": "markdown",
   "metadata": {},
   "source": [
    "#### 3️⃣ Segmentasi Pelanggan Berdasarkan Perilaku Pembelian (RFM Analysis)  \n",
    "##### Alasan Analisis  \n",
    "Analisis RFM (Recency, Frequency, Monetary) digunakan untuk mengelompokkan pelanggan berdasarkan kebiasaan belanja mereka. Dengan segmentasi ini, kita dapat mengidentifikasi pelanggan setia, pelanggan yang baru saja melakukan pembelian, serta pelanggan yang berisiko tidak kembali."
   ]
  },
  {
   "cell_type": "code",
   "execution_count": null,
   "metadata": {},
   "outputs": [
    {
     "data": {
      "image/png": "[encoded data removed]",
      "text/plain": [
       "<Figure size 2100x600 with 3 Axes>"
      ]
     },
     "metadata": {},
     "output_type": "display_data"
    }
   ],
   "source": [
    "# Buat figure dengan 3 subplot\n",
    "fig, axes = plt.subplots(1, 3, figsize=(21, 6))\n",
    "colors = ['blue', 'green', 'red']\n",
    "\n",
    "# Distribusi Recency\n",
    "sns.histplot(rfm_df_clean['Recency'], bins=30, kde=True, ax=axes[0], color=colors[0])\n",
    "axes[0].set_title('Distribusi Recency (Hari sejak transaksi terakhir)', fontsize=14)\n",
    "axes[0].set_xlabel('Hari sejak transaksi terakhir (hari)', fontsize=12)\n",
    "axes[0].set_ylabel('Jumlah Pelanggan (orang)', fontsize=12)\n",
    "axes[0].axvline(rfm_df_clean['Recency'].mean(), color='black', linestyle='dashed', label=f'Rata-rata: {rfm_df_clean[\"Recency\"].mean():.1f} hari')\n",
    "axes[0].legend()\n",
    "\n",
    "# Distribusi Frequency\n",
    "sns.histplot(rfm_df_clean['Frequency'], bins=20, kde=True, ax=axes[1], color=colors[1])\n",
    "axes[1].set_title('Distribusi Frequency (Jumlah transaksi)', fontsize=14)\n",
    "axes[1].set_xlabel('Jumlah transaksi (kali)', fontsize=12)\n",
    "axes[1].set_ylabel('Jumlah Pelanggan (orang)', fontsize=12)\n",
    "axes[1].axvline(rfm_df_clean['Frequency'].mean(), color='black', linestyle='dashed', label=f'Rata-rata: {rfm_df_clean[\"Frequency\"].mean():.1f} kali')\n",
    "axes[1].legend()\n",
    "\n",
    "# Distribusi Monetary\n",
    "sns.histplot(rfm_df_clean['Monetary'], bins=30, kde=True, ax=axes[2], color=colors[2])\n",
    "axes[2].set_title('Distribusi Monetary (Total belanja pelanggan)', fontsize=14)\n",
    "axes[2].set_xlabel('Total belanja (Rupiah)', fontsize=12)\n",
    "axes[2].set_ylabel('Jumlah Pelanggan (orang)', fontsize=12)\n",
    "axes[2].axvline(rfm_df_clean['Monetary'].mean(), color='black', linestyle='dashed', label=f'Rata-rata: Rp{rfm_df_clean[\"Monetary\"].mean():,.0f}')\n",
    "axes[2].legend()\n",
    "\n",
    "plt.tight_layout()\n",
    "plt.show()"
   ]
  },
  {
   "cell_type": "markdown",
   "metadata": {},
   "source": [
    "#### 4️⃣ Distribusi Geografis Pelanggan Berdasarkan Jumlah Pesanan  \n",
    "##### Alasan Analisis  \n",
    "Analisis distribusi geografis pesanan membantu memahami daerah dengan permintaan tertinggi. Hal ini bermanfaat untuk pengoptimalan logistik, strategi ekspansi bisnis, dan penyesuaian strategi pemasaran berdasarkan lokasi pelanggan."
   ]
  },
  {
   "cell_type": "code",
   "execution_count": null,
   "metadata": {},
   "outputs": [
    {
     "name": "stderr",
     "output_type": "stream",
     "text": [
      "C:\\Users\\faish\\AppData\\Local\\Temp\\ipykernel_27200\\1753780602.py:2: FutureWarning: \n",
      "\n",
      "Passing `palette` without assigning `hue` is deprecated and will be removed in v0.14.0. Assign the `y` variable to `hue` and set `legend=False` for the same effect.\n",
      "\n",
      "  sns.barplot(x='order_id', y='customer_state_x', data=orders_by_state.sort_values(by='order_id', ascending=False), palette='coolwarm')\n"
     ]
    },
    {
     "data": {
      "image/png": "[encoded data removed]",
      "text/plain": [
       "<Figure size 1200x600 with 1 Axes>"
      ]
     },
     "metadata": {},
     "output_type": "display_data"
    }
   ],
   "source": [
    "plt.figure(figsize=(12, 6))\n",
    "sns.barplot(x='order_id', y='customer_state_x', data=orders_by_state.sort_values(by='order_id', ascending=False), palette='coolwarm')\n",
    "plt.xlabel('Jumlah Pesanan')\n",
    "plt.ylabel('Negara Bagian')\n",
    "plt.title('Distribusi Geografis Jumlah Pesanan')\n",
    "plt.show()"
   ]
  },
  {
   "cell_type": "markdown",
   "metadata": {
    "id": "_WeHlCeX8DC2"
   },
   "source": [
    "## Conclusion"
   ]
  },
  {
   "cell_type": "markdown",
   "metadata": {
    "id": "ZTcyR48Y8DC2"
   },
   "source": [
    "### 📊 Kesimpulan Analisis\n",
    "\n",
    "#### 1️⃣ Pola Jumlah Pesanan per Bulan\n",
    "- Tren jumlah pesanan mengalami peningkatan yang signifikan dari tahun 2016 hingga puncaknya pada akhir 2017 yaitu di bulan November.\n",
    "- Peningkatan ini menunjukkan pertumbuhan bisnis yang pesat.\n",
    "- Namun, setelah puncak pada November 2017, jumlah pesanan mengalami sedikit penurunan dan stabil pada 2018.\n",
    "- Fluktuasi pesanan dapat disebabkan oleh faktor musiman atau marketing yang kurang baik\n",
    "\n",
    "#### 2️⃣ Kategori Produk yang Paling Banyak Dibeli\n",
    "- Kategori produk dengan penjualan tertinggi adalah **\"cama_mesa_banho\"**.\n",
    "- Produk kategori kesehatan & kecantikan serta olahraga juga termasuk dalam kategori populer.\n",
    "- Informasi ini dapat digunakan untuk menentukan strategi stok barang dan pemasaran.\n",
    "\n",
    "#### 3️⃣ Analisis RFM (Recency, Frequency, Monetary)\n",
    "- **Recency:** Mayoritas pelanggan terakhir bertransaksi dalam rentang waktu 100–300 hari yang lalu.\n",
    "- **Frequency:** Sebagian besar pelanggan hanya melakukan transaksi satu kali\n",
    "- **Monetary:** Sebagian besar pelanggan melakukan pembelian dengan nilai transaksi yang relatif kecil.\n",
    "- **Kesimpulan:** Program promosi diperlukan untuk mendorong pembelian yang berkelanjutan.\n",
    "\n",
    "#### 4️⃣ Distribusi Geografis Pelanggan Berdasarkan Jumlah Pesanan\n",
    "- **Negara bagian SP (São Paulo) memiliki jumlah pesanan tertinggi,** jauh di atas negara bagian lainnya.\n",
    "- RJ (Rio de Janeiro) dan MG (Minas Gerais) juga memiliki permintaan tinggi.\n",
    "- Distribusi ini penting untuk optimasi logistik dan strategi ekspansi bisnis.\n",
    "\n",
    "📌 **Rekomendasi Bisnis:**\n",
    "- Meningkatkan pemasaran di kategori produk terlaris untuk meningkatkan pendapatan.\n",
    "- Mendorong pembelian berulang melalui strategi loyalitas pelanggan.\n",
    "- Mengoptimalkan distribusi dan logistik ke wilayah dengan permintaan tinggi.\n"
   ]
  }
 ],
 "metadata": {
  "colab": {
   "provenance": []
  },
  "kernelspec": {
   "display_name": "dataAnalytics",
   "language": "python",
   "name": "python3"
  },
  "language_info": {
   "codemirror_mode": {
    "name": "ipython",
    "version": 3
   },
   "file_extension": ".py",
   "mimetype": "text/x-python",
   "name": "python",
   "nbconvert_exporter": "python",
   "pygments_lexer": "ipython3",
   "version": "3.11.11"
  }
 },
 "nbformat": 4,
 "nbformat_minor": 0
}
